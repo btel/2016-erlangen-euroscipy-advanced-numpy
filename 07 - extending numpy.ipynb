{
 "cells": [
  {
   "cell_type": "markdown",
   "metadata": {},
   "source": [
    "# Extending NumPy"
   ]
  },
  {
   "cell_type": "markdown",
   "metadata": {},
   "source": [
    "Many new features can be integrated with NumPy machinery:\n",
    "\n",
    "* dtypes,\n",
    "* ufuncs and gufuncs,\n",
    "* new C code directly interfacing with NumPy arays"
   ]
  },
  {
   "cell_type": "markdown",
   "metadata": {},
   "source": [
    "## Creating ufuncs\n",
    "\n",
    "By creating a new ufunc you will obtain a function that handles\n",
    "\n",
    "* broadcasting\n",
    "* N-dimensional looping\n",
    "* automatic type-conversions with minimal memory usage\n",
    "* optional output arrays"
   ]
  },
  {
   "cell_type": "code",
   "execution_count": null,
   "metadata": {
    "collapsed": false
   },
   "outputs": [],
   "source": [
    "%load_ext cython"
   ]
  },
  {
   "cell_type": "markdown",
   "metadata": {},
   "source": [
    "The following example is taken from [Advanced Numpy](http://www.scipy-lectures.org/advanced/advanced_numpy/index.html#exercise-building-an-ufunc-from-scratch) chapter of SciPy lectures by Pauli Virtanen"
   ]
  },
  {
   "cell_type": "code",
   "execution_count": null,
   "metadata": {
    "collapsed": false
   },
   "outputs": [],
   "source": [
    "%%cython\n",
    "\n",
    "# The elementwise function\n",
    "# ------------------------\n",
    "\n",
    "cdef void mandel_single_point(double complex *z_in, \n",
    "                              double complex *c_in,\n",
    "                              double complex *z_out) nogil:\n",
    "    #\n",
    "    # The Mandelbrot iteration\n",
    "    #\n",
    "\n",
    "    #\n",
    "    # Some points of note:\n",
    "    #\n",
    "    # - It's *NOT* allowed to call any Python functions here.\n",
    "    #\n",
    "    #   The Ufunc loop runs with the Python Global Interpreter Lock released.\n",
    "    #   Hence, the ``nogil``.\n",
    "    #\n",
    "    # - And so all local variables must be declared with ``cdef``\n",
    "    #\n",
    "    # - Note also that this function receives *pointers* to the data;\n",
    "    #   the \"traditional\" solution to passing complex variables around\n",
    "    #\n",
    "\n",
    "    cdef double complex z = z_in[0]\n",
    "    cdef double complex c = c_in[0]\n",
    "    cdef int k  # the integer we use in the for loop\n",
    "\n",
    "    # Straightforward iteration\n",
    "\n",
    "    for k in range(100):\n",
    "        z = z*z + c\n",
    "        if z.real**2 + z.imag**2 > 1000:\n",
    "            break\n",
    "\n",
    "    # Return the answer for this point\n",
    "    z_out[0] = z\n",
    "\n",
    "\n",
    "\n",
    "# Required module initialization\n",
    "# ------------------------------\n",
    "\n",
    "cimport numpy as np\n",
    "np.import_array()\n",
    "np.import_ufunc()\n",
    "\n",
    "# The actual ufunc declaration\n",
    "# ----------------------------\n",
    "\n",
    "cdef np.PyUFuncGenericFunction loop_func[1]\n",
    "cdef char input_output_types[3]\n",
    "cdef void *elementwise_funcs[1]\n",
    "\n",
    "loop_func[0] = np.PyUFunc_DD_D # generic function to implement looping\n",
    "\n",
    "input_output_types[0] = np.NPY_CDOUBLE\n",
    "input_output_types[1] = np.NPY_CDOUBLE\n",
    "input_output_types[2] = np.NPY_CDOUBLE\n",
    "\n",
    "elementwise_funcs[0] = <void*>mandel_single_point\n",
    "\n",
    "mandel = np.PyUFunc_FromFuncAndData(\n",
    "    loop_func,\n",
    "    elementwise_funcs,\n",
    "    input_output_types,\n",
    "    1, # number of supported input types\n",
    "    2, # number of input args\n",
    "    1, # number of output args\n",
    "    0, # `identity` element, never mind this\n",
    "    \"mandel\", # function name\n",
    "    \"mandel(z, c) -> computes iterated z*z + c\", # docstring\n",
    "    0 # unused\n",
    "    )\n"
   ]
  },
  {
   "cell_type": "code",
   "execution_count": null,
   "metadata": {
    "collapsed": false
   },
   "outputs": [],
   "source": [
    "\"\"\"\n",
    "Plot Mandelbrot\n",
    "================\n",
    "\n",
    "Plot the Mandelbrot ensemble.\n",
    "\n",
    "\"\"\"\n",
    "\n",
    "import numpy as np\n",
    "x = np.linspace(-1.7, 0.6, 1000)\n",
    "y = np.linspace(-1.4, 1.4, 1000)\n",
    "c = x[None,:] + 1j*y[:,None]\n",
    "z = mandel(0, c) # broadcasting in use!\n",
    "\n",
    "import matplotlib.pyplot as plt\n",
    "%matplotlib inline\n",
    "plt.imshow(abs(z)**2 < 1000, extent=[-1.7, 0.6, -1.4, 1.4])\n",
    "plt.gray()\n",
    "plt.show()"
   ]
  },
  {
   "cell_type": "code",
   "execution_count": null,
   "metadata": {
    "collapsed": false
   },
   "outputs": [],
   "source": [
    "dir(mandel)"
   ]
  },
  {
   "cell_type": "markdown",
   "metadata": {},
   "source": [
    "Many external libraries (like numba) greatly simplify writing ufuncs."
   ]
  },
  {
   "cell_type": "markdown",
   "metadata": {},
   "source": [
    "### Exercise\n",
    "\n",
    "Take the following function calculating logit and turn it into a ufunc using the above example.\n",
    "\n",
    "```cython\n",
    "\n",
    "cdef extern from \"math.h\":\n",
    "    double log \"log\" (double) nogil\n",
    "    \n",
    "import cython\n",
    "\n",
    "@cython.cdivision(True)\n",
    "cdef double logit_double(double p) nogil:\n",
    "    p = p/(1-p);\n",
    "    p = log(p);\n",
    "    return p\n",
    "```"
   ]
  },
  {
   "cell_type": "markdown",
   "metadata": {},
   "source": [
    "## Further reading\n",
    "\n",
    "* SciPy Lecture: http://www.scipy-lectures.org/advanced/advanced_numpy/index.html#exercise-building-an-ufunc-from-scratch\n",
    "* Writing your own ufuncs: http://docs.scipy.org/doc/numpy/user/c-info.ufunc-tutorial.html\n",
    "* How to extend NumPy: http://docs.scipy.org/doc/numpy/user/c-info.how-to-extend.html"
   ]
  },
  {
   "cell_type": "code",
   "execution_count": null,
   "metadata": {
    "collapsed": true
   },
   "outputs": [],
   "source": []
  }
 ],
 "metadata": {
  "kernelspec": {
   "display_name": "Python 3",
   "language": "python",
   "name": "python3"
  },
  "language_info": {
   "codemirror_mode": {
    "name": "ipython",
    "version": 3
   },
   "file_extension": ".py",
   "mimetype": "text/x-python",
   "name": "python",
   "nbconvert_exporter": "python",
   "pygments_lexer": "ipython3",
   "version": "3.5.2"
  }
 },
 "nbformat": 4,
 "nbformat_minor": 0
}
