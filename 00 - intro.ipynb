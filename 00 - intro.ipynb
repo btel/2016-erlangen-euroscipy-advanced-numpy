{
 "cells": [
  {
   "cell_type": "markdown",
   "metadata": {},
   "source": [
    "# Advanced NumPy tutorial\n",
    "### Working efficiently with multi-dimensional arrays in NumPy and xarray"
   ]
  },
  {
   "cell_type": "markdown",
   "metadata": {},
   "source": [
    "August, 23rd, 2016, EuroScipy 2016, Erlangen, Germany\n",
    "\n",
    "Bartosz Telenczuk and OSS comunity (full [credits](Authors))\n",
    "\n",
    "email: mail@telenczuk.pl\n",
    "\n"
   ]
  },
  {
   "cell_type": "markdown",
   "metadata": {},
   "source": [
    "## Requirements\n",
    "\n",
    "* Python 3.x\n",
    "* Jupyter Notebook\n",
    "* NumPy >= 1.10\n",
    "* matplotlib\n",
    "* xarray\n",
    "* Pillow\n",
    "\n",
    "If you use anaconda you can install them with:\n",
    "\n",
    "```\n",
    "conda create -n advanced_numpy python=3 notebook numpy matplotlib xarray pillow cython\n",
    "source activate advanced_numpy\n",
    "```\n",
    "\n",
    "If you don't use conda, you cand download and install miniconda and run the commands above from your shell or start a notebook on the Internet: http://mybinder.org:/repo/btel/2016-erlangen-euroscipy-advanced-numpy"
   ]
  },
  {
   "cell_type": "markdown",
   "metadata": {},
   "source": [
    "## Quiz: Indexing\n",
    "\n",
    "Assume you define an `a` array as following:\n",
    "\n",
    "```\n",
    "a = np.arange(4)\n",
    "```\n",
    "\n",
    "Which of the code blocks will modify the value of **`a`**?\n",
    "\n",
    "a)\n",
    "```\n",
    "b = a[::2]\n",
    "b[0] = 10\n",
    "```\n",
    "\n",
    "b) \n",
    "```\n",
    "b = a[[0, 2]]\n",
    "b[0] = 10\n",
    "```\n",
    "\n",
    "c) \n",
    "\n",
    "```\n",
    "a[[0, 2]] = 10\n",
    "```\n",
    "\n",
    "d)\n",
    "\n",
    "```\n",
    "a[a>3] = 10\n",
    "```"
   ]
  },
  {
   "cell_type": "markdown",
   "metadata": {},
   "source": [
    "## Syllabus\n",
    "\n",
    "1. [Broadcasting](01 - Broadcasting.ipynb)\n",
    "2. [Memory layout](02 - Memory layout.ipynb)\n",
    "3. [dtypes and structured array](03 - Dtypes and structured array.ipynb)\n",
    "4. [xarray &mdash; arays with labels](04 - xarray - arrays with labels.ipynb)\n",
    "5. [Array interface](05 - array interface.ipynb)\n",
    "6. [ufuncs](06 - ufuncs.ipynb)\n",
    "7. [Extending NumPy](07 - extending numpy.ipynb)"
   ]
  }
 ],
 "metadata": {
  "kernelspec": {
   "display_name": "Python 3",
   "language": "python",
   "name": "python3"
  },
  "language_info": {
   "codemirror_mode": {
    "name": "ipython",
    "version": 3
   },
   "file_extension": ".py",
   "mimetype": "text/x-python",
   "name": "python",
   "nbconvert_exporter": "python",
   "pygments_lexer": "ipython3",
   "version": "3.5.2"
  }
 },
 "nbformat": 4,
 "nbformat_minor": 0
}
