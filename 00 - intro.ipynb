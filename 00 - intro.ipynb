{
 "cells": [
  {
   "cell_type": "markdown",
   "metadata": {},
   "source": [
    "## Requirements\n",
    "\n",
    "* Python 3.x\n",
    "* Jupyter Notebook\n",
    "* NumPy >= 1.10\n",
    "* matplotlib\n",
    "* xarray\n",
    "* Pillow\n",
    "\n",
    "If you use anaconda you can install them with:\n",
    "\n",
    "```\n",
    "conda create -n advanced_numpy python=3 notebook numpy matplotlib xarray pillow\n",
    "source activate advanced_numpy\n",
    "```\n",
    "\n",
    "If you don't use conda, you cand download and install miniconda and run the commands above from your shell."
   ]
  },
  {
   "cell_type": "markdown",
   "metadata": {},
   "source": [
    "## Quiz\n",
    "\n",
    "Assume you define an `a` array as following:"
   ]
  },
  {
   "cell_type": "markdown",
   "metadata": {
    "collapsed": false
   },
   "source": [
    "```\n",
    "a = np.arange(4)\n",
    "```"
   ]
  },
  {
   "cell_type": "markdown",
   "metadata": {},
   "source": [
    "Which of the code blocks will modify the value of `a`?"
   ]
  },
  {
   "cell_type": "markdown",
   "metadata": {
    "collapsed": false
   },
   "source": [
    "a)\n",
    "```\n",
    "b = a[::2]\n",
    "b[0] = 10\n",
    "```"
   ]
  },
  {
   "cell_type": "markdown",
   "metadata": {
    "collapsed": false
   },
   "source": [
    "b) \n",
    "```\n",
    "b = a[[0, 2]]\n",
    "b[0] = 10\n",
    "```"
   ]
  },
  {
   "cell_type": "markdown",
   "metadata": {
    "collapsed": false
   },
   "source": [
    "c) \n",
    "\n",
    "```\n",
    "a[[0, 2]] = 10\n",
    "```"
   ]
  },
  {
   "cell_type": "markdown",
   "metadata": {
    "collapsed": false
   },
   "source": [
    "d)\n",
    "\n",
    "```\n",
    "a[a>3] = 10\n",
    "```"
   ]
  },
  {
   "cell_type": "code",
   "execution_count": null,
   "metadata": {
    "collapsed": true
   },
   "outputs": [],
   "source": []
  }
 ],
 "metadata": {
  "kernelspec": {
   "display_name": "Python 3",
   "language": "python",
   "name": "python3"
  },
  "language_info": {
   "codemirror_mode": {
    "name": "ipython",
    "version": 3
   },
   "file_extension": ".py",
   "mimetype": "text/x-python",
   "name": "python",
   "nbconvert_exporter": "python",
   "pygments_lexer": "ipython3",
   "version": "3.5.2"
  }
 },
 "nbformat": 4,
 "nbformat_minor": 0
}
