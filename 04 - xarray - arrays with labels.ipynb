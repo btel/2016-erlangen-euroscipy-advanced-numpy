{
 "cells": [
  {
   "cell_type": "code",
   "execution_count": 1,
   "metadata": {
    "collapsed": true
   },
   "outputs": [],
   "source": [
    "import xarray as xr\n",
    "import numpy as np"
   ]
  },
  {
   "cell_type": "code",
   "execution_count": 2,
   "metadata": {
    "collapsed": false
   },
   "outputs": [],
   "source": [
    "data = xr.DataArray(np.random.rand(5))"
   ]
  },
  {
   "cell_type": "code",
   "execution_count": 3,
   "metadata": {
    "collapsed": false
   },
   "outputs": [
    {
     "data": {
      "text/plain": [
       "<xarray.DataArray (dim_0: 5)>\n",
       "array([ 0.46885859,  0.09113166,  0.02410605,  0.72529958,  0.60852871])\n",
       "Coordinates:\n",
       "  * dim_0    (dim_0) int64 0 1 2 3 4"
      ]
     },
     "execution_count": 3,
     "metadata": {},
     "output_type": "execute_result"
    }
   ],
   "source": [
    "data"
   ]
  },
  {
   "cell_type": "markdown",
   "metadata": {},
   "source": [
    "## Dimension labels"
   ]
  },
  {
   "cell_type": "code",
   "execution_count": 4,
   "metadata": {
    "collapsed": false
   },
   "outputs": [],
   "source": [
    "data1 = xr.DataArray(np.random.rand(4, 2), [('sample',['a', 'b', 'c', 'd']), ('size',['width', 'height'])])"
   ]
  },
  {
   "cell_type": "code",
   "execution_count": 5,
   "metadata": {
    "collapsed": false
   },
   "outputs": [
    {
     "data": {
      "text/plain": [
       "dtype('float64')"
      ]
     },
     "execution_count": 5,
     "metadata": {},
     "output_type": "execute_result"
    }
   ],
   "source": [
    "data1.dtype"
   ]
  },
  {
   "cell_type": "code",
   "execution_count": 6,
   "metadata": {
    "collapsed": false
   },
   "outputs": [
    {
     "data": {
      "text/plain": [
       "<xarray.DataArray (sample: 4, size: 2)>\n",
       "array([[ 0.26656025,  0.60613195],\n",
       "       [ 0.28862459,  0.17809684],\n",
       "       [ 0.3569416 ,  0.16762222],\n",
       "       [ 0.86648851,  0.71052394]])\n",
       "Coordinates:\n",
       "  * sample   (sample) <U1 'a' 'b' 'c' 'd'\n",
       "  * size     (size) <U6 'width' 'height'"
      ]
     },
     "execution_count": 6,
     "metadata": {},
     "output_type": "execute_result"
    }
   ],
   "source": [
    "data1"
   ]
  },
  {
   "cell_type": "code",
   "execution_count": 7,
   "metadata": {
    "collapsed": false
   },
   "outputs": [
    {
     "data": {
      "text/plain": [
       "<xarray.DataArray (size: 2)>\n",
       "array([ 1.77861495,  1.66237495])\n",
       "Coordinates:\n",
       "  * size     (size) <U6 'width' 'height'"
      ]
     },
     "execution_count": 7,
     "metadata": {},
     "output_type": "execute_result"
    }
   ],
   "source": [
    "data1.sum('sample')"
   ]
  },
  {
   "cell_type": "markdown",
   "metadata": {},
   "source": [
    "# Exercise\n",
    "\n",
    "These two arrays contain average monthly temperatures (in Celsius degrees) in Erlangen and Paris:\n",
    "\n",
    "```\n",
    "erlangen = [-0.5, 0.7, 4.4, 8.5, 13.3, 16.7, 18.2, 17.5, 13.7, 8.9, 4.0, 0.9]\n",
    "paris = [3.3, 4.2, 7.8, 10.8, 14.3, 17.5, 19.4, 19.1, 16.4, 11.6, 7.2, 4.2]\n",
    "```\n",
    "\n",
    "Design a `DataArray` for storing these data. Calculate average annual temperature per location."
   ]
  },
  {
   "cell_type": "markdown",
   "metadata": {},
   "source": [
    "## Indexing"
   ]
  },
  {
   "cell_type": "code",
   "execution_count": 8,
   "metadata": {
    "collapsed": false
   },
   "outputs": [
    {
     "data": {
      "text/plain": [
       "<xarray.DataArray (size: 2)>\n",
       "array([ 0.3569416 ,  0.16762222])\n",
       "Coordinates:\n",
       "    sample   <U1 'c'\n",
       "  * size     (size) <U6 'width' 'height'"
      ]
     },
     "execution_count": 8,
     "metadata": {},
     "output_type": "execute_result"
    }
   ],
   "source": [
    "data1[2]"
   ]
  },
  {
   "cell_type": "code",
   "execution_count": 9,
   "metadata": {
    "collapsed": false
   },
   "outputs": [
    {
     "data": {
      "text/plain": [
       "<xarray.DataArray (size: 2)>\n",
       "array([ 0.26656025,  0.60613195])\n",
       "Coordinates:\n",
       "    sample   <U1 'a'\n",
       "  * size     (size) <U6 'width' 'height'"
      ]
     },
     "execution_count": 9,
     "metadata": {},
     "output_type": "execute_result"
    }
   ],
   "source": [
    "data1.loc['a']"
   ]
  },
  {
   "cell_type": "code",
   "execution_count": 10,
   "metadata": {
    "collapsed": false
   },
   "outputs": [
    {
     "data": {
      "text/plain": [
       "<xarray.DataArray (sample: 4)>\n",
       "array([ 0.26656025,  0.28862459,  0.3569416 ,  0.86648851])\n",
       "Coordinates:\n",
       "  * sample   (sample) <U1 'a' 'b' 'c' 'd'\n",
       "    size     <U6 'width'"
      ]
     },
     "execution_count": 10,
     "metadata": {},
     "output_type": "execute_result"
    }
   ],
   "source": [
    "data1.sel(size='width')"
   ]
  },
  {
   "cell_type": "markdown",
   "metadata": {},
   "source": [
    "## Alignment"
   ]
  },
  {
   "cell_type": "code",
   "execution_count": 11,
   "metadata": {
    "collapsed": false
   },
   "outputs": [],
   "source": [
    "day2 = xr.DataArray(np.random.rand(4,2), [('sample',['b', 'c', 'd', 'e']), ('size', ['width', 'height'])])"
   ]
  },
  {
   "cell_type": "code",
   "execution_count": 12,
   "metadata": {
    "collapsed": false
   },
   "outputs": [
    {
     "data": {
      "text/plain": [
       "<xarray.DataArray (sample: 3, size: 2)>\n",
       "array([[ 0.92768971,  0.38311718],\n",
       "       [ 0.74488189,  1.05205423],\n",
       "       [ 1.69517388,  0.91080021]])\n",
       "Coordinates:\n",
       "  * sample   (sample) object 'b' 'c' 'd'\n",
       "  * size     (size) <U6 'width' 'height'"
      ]
     },
     "execution_count": 12,
     "metadata": {},
     "output_type": "execute_result"
    }
   ],
   "source": [
    "data1 + day2"
   ]
  },
  {
   "cell_type": "markdown",
   "metadata": {},
   "source": [
    "## Broadcasting"
   ]
  },
  {
   "cell_type": "code",
   "execution_count": 13,
   "metadata": {
    "collapsed": false
   },
   "outputs": [],
   "source": [
    "units = xr.DataArray([0.001, 0.01, 1], [('unit', ['mm', 'cm', 'm'])])"
   ]
  },
  {
   "cell_type": "code",
   "execution_count": 14,
   "metadata": {
    "collapsed": false
   },
   "outputs": [
    {
     "data": {
      "text/plain": [
       "<xarray.DataArray (sample: 4, size: 2, unit: 3)>\n",
       "array([[[  2.66560246e-04,   2.66560246e-03,   2.66560246e-01],\n",
       "        [  6.06131952e-04,   6.06131952e-03,   6.06131952e-01]],\n",
       "\n",
       "       [[  2.88624594e-04,   2.88624594e-03,   2.88624594e-01],\n",
       "        [  1.78096844e-04,   1.78096844e-03,   1.78096844e-01]],\n",
       "\n",
       "       [[  3.56941600e-04,   3.56941600e-03,   3.56941600e-01],\n",
       "        [  1.67622219e-04,   1.67622219e-03,   1.67622219e-01]],\n",
       "\n",
       "       [[  8.66488515e-04,   8.66488515e-03,   8.66488515e-01],\n",
       "        [  7.10523936e-04,   7.10523936e-03,   7.10523936e-01]]])\n",
       "Coordinates:\n",
       "  * sample   (sample) <U1 'a' 'b' 'c' 'd'\n",
       "  * size     (size) <U6 'width' 'height'\n",
       "  * unit     (unit) <U2 'mm' 'cm' 'm'"
      ]
     },
     "execution_count": 14,
     "metadata": {},
     "output_type": "execute_result"
    }
   ],
   "source": [
    "data1 * units"
   ]
  },
  {
   "cell_type": "markdown",
   "metadata": {},
   "source": [
    "## Interoperability with pandas"
   ]
  },
  {
   "cell_type": "markdown",
   "metadata": {},
   "source": [
    "## Exercise\n",
    "\n",
    "*Inspired by data science [challenge](http://www.ramp.studio/events/drug_spectra) by C. Marini et al*\n",
    "\n",
    "A researcher measured a [Raman spectrum](https://en.wikipedia.org/wiki/Raman_spectroscopy) of an unknown sample. Now he wants to determine the substance and its concentration. He has calibration data with Raman spectra of four different compounds at three different concentrations. Calculate mean square error between sample and all calibration spectra and find the closest compound and concentration.\n",
    "\n",
    "```python\n",
    "import pandas as pd\n",
    "df = pd.DataFrame.from_csv('raman_data.csv', index_col=[0, 1, 2])\n",
    "calibration = xr.DataArray.from_series(df['Raman'])\n",
    "\n",
    "sample = xr.DataArray([[0, 10]], [('sample', ['X1042']),\n",
    "                                  ('wavelength', [100, 300])])\n",
    "```\n",
    "\n",
    "**Hint**: To find the calibration sample with minimum error, you may convert the DataArray to pandas:\n",
    "\n",
    "```python\n",
    "err.to_series().argmin()\n",
    "```"
   ]
  },
  {
   "cell_type": "markdown",
   "metadata": {
    "collapsed": true
   },
   "source": [
    "## Comparison\n",
    "\n",
    "|     | pandas.DataFrame | xarray.DataArray | Structured NumPy array|\n",
    "|-----|------------------|------------------|--------------|\n",
    "|max. dimensions | 2 | 32 | 32 |\n",
    "| non-homogeneous arrays | Yes | No | Yes |\n",
    "|labelled dimensions | 2 | 32 | 1 |\n",
    "| labelled coordinates | Yes | Yes | No |\n",
    "| broadcasting | No | Yes | Yes |\n",
    "| auto-alignment | Yes | Yes | No |\n",
    "| groupby-split-combine | Yes | Yes | No |"
   ]
  },
  {
   "cell_type": "markdown",
   "metadata": {},
   "source": [
    "# Other features"
   ]
  },
  {
   "cell_type": "markdown",
   "metadata": {},
   "source": [
    "* `Dataset` -- key/value store; generalisation of `DataFrame` in `pandas` for N-dimenisonal data\n",
    "* groupby/split/combine\n",
    "* NetCDF io"
   ]
  },
  {
   "cell_type": "markdown",
   "metadata": {
    "collapsed": true
   },
   "source": [
    "## Further reading\n",
    "\n",
    "* xarray docs, http://xarray.pydata.org/en/stable/"
   ]
  },
  {
   "cell_type": "code",
   "execution_count": null,
   "metadata": {
    "collapsed": true
   },
   "outputs": [],
   "source": []
  }
 ],
 "metadata": {
  "kernelspec": {
   "display_name": "Python 3",
   "language": "python",
   "name": "python3"
  },
  "language_info": {
   "codemirror_mode": {
    "name": "ipython",
    "version": 3
   },
   "file_extension": ".py",
   "mimetype": "text/x-python",
   "name": "python",
   "nbconvert_exporter": "python",
   "pygments_lexer": "ipython3",
   "version": "3.5.2"
  }
 },
 "nbformat": 4,
 "nbformat_minor": 0
}
