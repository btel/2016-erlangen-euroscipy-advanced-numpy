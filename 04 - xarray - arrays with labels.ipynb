{
 "cells": [
  {
   "cell_type": "code",
   "execution_count": 4,
   "metadata": {
    "collapsed": true
   },
   "outputs": [],
   "source": [
    "import xarray as xr\n",
    "import numpy as np"
   ]
  },
  {
   "cell_type": "code",
   "execution_count": 5,
   "metadata": {
    "collapsed": false
   },
   "outputs": [],
   "source": [
    "data = xr.DataArray(np.random.rand(5))"
   ]
  },
  {
   "cell_type": "code",
   "execution_count": 6,
   "metadata": {
    "collapsed": false
   },
   "outputs": [
    {
     "data": {
      "text/plain": [
       "<xarray.DataArray (dim_0: 5)>\n",
       "array([ 0.19597555,  0.56921482,  0.22690033,  0.50702378,  0.54791444])\n",
       "Coordinates:\n",
       "  * dim_0    (dim_0) int64 0 1 2 3 4"
      ]
     },
     "execution_count": 6,
     "metadata": {},
     "output_type": "execute_result"
    }
   ],
   "source": [
    "data"
   ]
  },
  {
   "cell_type": "markdown",
   "metadata": {},
   "source": [
    "## Dimension labels"
   ]
  },
  {
   "cell_type": "code",
   "execution_count": 77,
   "metadata": {
    "collapsed": false
   },
   "outputs": [],
   "source": [
    "data1 = xr.DataArray(np.random.rand(4, 2), [('sample',['a', 'b', 'c', 'd']), ('size',['width', 'height'])])"
   ]
  },
  {
   "cell_type": "code",
   "execution_count": 107,
   "metadata": {
    "collapsed": false
   },
   "outputs": [
    {
     "data": {
      "text/plain": [
       "dtype('float64')"
      ]
     },
     "execution_count": 107,
     "metadata": {},
     "output_type": "execute_result"
    }
   ],
   "source": [
    "data1.dtype"
   ]
  },
  {
   "cell_type": "code",
   "execution_count": 78,
   "metadata": {
    "collapsed": false
   },
   "outputs": [
    {
     "data": {
      "text/plain": [
       "<xarray.DataArray (sample: 4, size: 2)>\n",
       "array([[ 0.86866115,  0.40762156],\n",
       "       [ 0.25137188,  0.83091033],\n",
       "       [ 0.49859054,  0.57916223],\n",
       "       [ 0.13570944,  0.01760468]])\n",
       "Coordinates:\n",
       "  * sample   (sample) |S1 'a' 'b' 'c' 'd'\n",
       "  * size     (size) |S6 'width' 'height'"
      ]
     },
     "execution_count": 78,
     "metadata": {},
     "output_type": "execute_result"
    }
   ],
   "source": [
    "data1"
   ]
  },
  {
   "cell_type": "code",
   "execution_count": 85,
   "metadata": {
    "collapsed": false
   },
   "outputs": [
    {
     "data": {
      "text/plain": [
       "<xarray.DataArray (size: 2)>\n",
       "array([ 1.75433301,  1.8352988 ])\n",
       "Coordinates:\n",
       "  * size     (size) |S6 'width' 'height'"
      ]
     },
     "execution_count": 85,
     "metadata": {},
     "output_type": "execute_result"
    }
   ],
   "source": [
    "data1.sum('sample')"
   ]
  },
  {
   "cell_type": "markdown",
   "metadata": {},
   "source": [
    "## Indexing"
   ]
  },
  {
   "cell_type": "code",
   "execution_count": 105,
   "metadata": {
    "collapsed": false
   },
   "outputs": [
    {
     "data": {
      "text/plain": [
       "<xarray.DataArray (size: 2)>\n",
       "array([ 0.49859054,  0.57916223])\n",
       "Coordinates:\n",
       "    sample   |S1 'c'\n",
       "  * size     (size) |S6 'width' 'height'"
      ]
     },
     "execution_count": 105,
     "metadata": {},
     "output_type": "execute_result"
    }
   ],
   "source": [
    "data1[2]"
   ]
  },
  {
   "cell_type": "code",
   "execution_count": 106,
   "metadata": {
    "collapsed": false
   },
   "outputs": [
    {
     "data": {
      "text/plain": [
       "<xarray.DataArray (size: 2)>\n",
       "array([ 0.86866115,  0.40762156])\n",
       "Coordinates:\n",
       "    sample   |S1 'a'\n",
       "  * size     (size) |S6 'width' 'height'"
      ]
     },
     "execution_count": 106,
     "metadata": {},
     "output_type": "execute_result"
    }
   ],
   "source": [
    "data1.loc['a']"
   ]
  },
  {
   "cell_type": "code",
   "execution_count": 108,
   "metadata": {
    "collapsed": false
   },
   "outputs": [
    {
     "data": {
      "text/plain": [
       "<xarray.DataArray (sample: 4)>\n",
       "array([ 0.86866115,  0.25137188,  0.49859054,  0.13570944])\n",
       "Coordinates:\n",
       "  * sample   (sample) |S1 'a' 'b' 'c' 'd'\n",
       "    size     |S6 'width'"
      ]
     },
     "execution_count": 108,
     "metadata": {},
     "output_type": "execute_result"
    }
   ],
   "source": [
    "data1.sel(size='width')"
   ]
  },
  {
   "cell_type": "markdown",
   "metadata": {},
   "source": [
    "## Alignment"
   ]
  },
  {
   "cell_type": "code",
   "execution_count": 92,
   "metadata": {
    "collapsed": false
   },
   "outputs": [],
   "source": [
    "day2 = xr.DataArray(np.random.rand(4,2), [('sample',['b', 'c', 'd', 'e']), ('size', ['width', 'height'])])"
   ]
  },
  {
   "cell_type": "code",
   "execution_count": 93,
   "metadata": {
    "collapsed": false
   },
   "outputs": [
    {
     "data": {
      "text/plain": [
       "<xarray.DataArray (sample: 3, size: 2)>\n",
       "array([[ 0.89587212,  1.03816913],\n",
       "       [ 1.35330607,  1.25184663],\n",
       "       [ 1.11904872,  0.61373682]])\n",
       "Coordinates:\n",
       "  * sample   (sample) object 'b' 'c' 'd'\n",
       "  * size     (size) |S6 'width' 'height'"
      ]
     },
     "execution_count": 93,
     "metadata": {},
     "output_type": "execute_result"
    }
   ],
   "source": [
    "data1 + day2"
   ]
  },
  {
   "cell_type": "markdown",
   "metadata": {},
   "source": [
    "## Broadcasting"
   ]
  },
  {
   "cell_type": "code",
   "execution_count": 99,
   "metadata": {
    "collapsed": false
   },
   "outputs": [],
   "source": [
    "units = xr.DataArray([0.001, 0.01, 1], [('unit', ['mm', 'cm', 'm'])])"
   ]
  },
  {
   "cell_type": "code",
   "execution_count": 100,
   "metadata": {
    "collapsed": false
   },
   "outputs": [
    {
     "data": {
      "text/plain": [
       "<xarray.DataArray (sample: 4, size: 2, unit: 3)>\n",
       "array([[[  8.68661152e-04,   8.68661152e-03,   8.68661152e-01],\n",
       "        [  4.07621555e-04,   4.07621555e-03,   4.07621555e-01]],\n",
       "\n",
       "       [[  2.51371876e-04,   2.51371876e-03,   2.51371876e-01],\n",
       "        [  8.30910332e-04,   8.30910332e-03,   8.30910332e-01]],\n",
       "\n",
       "       [[  4.98590537e-04,   4.98590537e-03,   4.98590537e-01],\n",
       "        [  5.79162233e-04,   5.79162233e-03,   5.79162233e-01]],\n",
       "\n",
       "       [[  1.35709444e-04,   1.35709444e-03,   1.35709444e-01],\n",
       "        [  1.76046833e-05,   1.76046833e-04,   1.76046833e-02]]])\n",
       "Coordinates:\n",
       "  * sample   (sample) |S1 'a' 'b' 'c' 'd'\n",
       "  * size     (size) |S6 'width' 'height'\n",
       "  * unit     (unit) |S2 'mm' 'cm' 'm'"
      ]
     },
     "execution_count": 100,
     "metadata": {},
     "output_type": "execute_result"
    }
   ],
   "source": [
    "data1 * units"
   ]
  },
  {
   "cell_type": "markdown",
   "metadata": {},
   "source": [
    "# Exercise\n",
    "\n",
    "These two arrays contain temperatures in Erlangen and Paris recorded every month of 2015:\n",
    "\n",
    "```\n",
    "erlangen = []\n",
    "paris = []\n",
    "```\n",
    "\n",
    "Design a `DataArray` for storing these data. Calculate average temperature per location.Add measurement in third city."
   ]
  },
  {
   "cell_type": "code",
   "execution_count": 29,
   "metadata": {
    "collapsed": true
   },
   "outputs": [],
   "source": [
    "\n",
    "months = range(12)\n",
    "erlangen = np.random.randn(12)\n",
    "paris = np.random.randn(12)"
   ]
  },
  {
   "cell_type": "code",
   "execution_count": 46,
   "metadata": {
    "collapsed": false
   },
   "outputs": [],
   "source": [
    "data = xr.DataArray([erlangen, paris], [('city', ['Erlangen', 'Paris']), ('month', months)])"
   ]
  },
  {
   "cell_type": "code",
   "execution_count": 47,
   "metadata": {
    "collapsed": false
   },
   "outputs": [
    {
     "data": {
      "text/plain": [
       "<xarray.DataArray (city: 2, month: 12)>\n",
       "array([[-0.57577486, -0.72116594, -0.76420096, -0.30790361,  0.12582586,\n",
       "        -2.29440426, -0.46819937,  0.37937205,  0.91693077, -0.83358682,\n",
       "         1.14229471,  0.2530109 ],\n",
       "       [ 1.26075554, -0.89508155,  1.3983479 ,  0.58154699,  0.84078393,\n",
       "         0.46338294,  0.45022708, -1.32997518, -0.85903915, -1.73596396,\n",
       "        -1.33401731, -1.67657459]])\n",
       "Coordinates:\n",
       "  * city     (city) |S8 'Erlangen' 'Paris'\n",
       "  * month    (month) int64 0 1 2 3 4 5 6 7 8 9 10 11"
      ]
     },
     "execution_count": 47,
     "metadata": {},
     "output_type": "execute_result"
    }
   ],
   "source": [
    "data"
   ]
  },
  {
   "cell_type": "code",
   "execution_count": 48,
   "metadata": {
    "collapsed": false
   },
   "outputs": [
    {
     "data": {
      "text/plain": [
       "<xarray.DataArray (city: 2)>\n",
       "array([-0.26231679, -0.23630061])\n",
       "Coordinates:\n",
       "  * city     (city) |S8 'Erlangen' 'Paris'"
      ]
     },
     "execution_count": 48,
     "metadata": {},
     "output_type": "execute_result"
    }
   ],
   "source": [
    "data.mean('month')"
   ]
  },
  {
   "cell_type": "code",
   "execution_count": 49,
   "metadata": {
    "collapsed": true
   },
   "outputs": [],
   "source": [
    "data2 = xr.DataArray([np.arange(12)], [('city', ['Amsterdam']), ('month', months)])"
   ]
  },
  {
   "cell_type": "code",
   "execution_count": 52,
   "metadata": {
    "collapsed": false
   },
   "outputs": [
    {
     "data": {
      "text/plain": [
       "<xarray.DataArray (city: 0, month: 12)>\n",
       "array([], shape=(0, 12), dtype=float64)\n",
       "Coordinates:\n",
       "  * city     (city) object \n",
       "  * month    (month) int64 0 1 2 3 4 5 6 7 8 9 10 11"
      ]
     },
     "execution_count": 52,
     "metadata": {},
     "output_type": "execute_result"
    }
   ],
   "source": [
    "data + data2"
   ]
  },
  {
   "cell_type": "code",
   "execution_count": 51,
   "metadata": {
    "collapsed": false
   },
   "outputs": [
    {
     "data": {
      "text/plain": [
       "<xarray.DataArray (city: 3, month: 12)>\n",
       "array([[ -0.57577486,  -0.72116594,  -0.76420096,  -0.30790361,\n",
       "          0.12582586,  -2.29440426,  -0.46819937,   0.37937205,\n",
       "          0.91693077,  -0.83358682,   1.14229471,   0.2530109 ],\n",
       "       [  1.26075554,  -0.89508155,   1.3983479 ,   0.58154699,\n",
       "          0.84078393,   0.46338294,   0.45022708,  -1.32997518,\n",
       "         -0.85903915,  -1.73596396,  -1.33401731,  -1.67657459],\n",
       "       [  0.        ,   1.        ,   2.        ,   3.        ,\n",
       "          4.        ,   5.        ,   6.        ,   7.        ,\n",
       "          8.        ,   9.        ,  10.        ,  11.        ]])\n",
       "Coordinates:\n",
       "  * month    (month) int64 0 1 2 3 4 5 6 7 8 9 10 11\n",
       "  * city     (city) object 'Erlangen' 'Paris' 'Amsterdam'"
      ]
     },
     "execution_count": 51,
     "metadata": {},
     "output_type": "execute_result"
    }
   ],
   "source": [
    "xr.concat([data, data2], 'city')"
   ]
  },
  {
   "cell_type": "code",
   "execution_count": null,
   "metadata": {
    "collapsed": true
   },
   "outputs": [],
   "source": []
  },
  {
   "cell_type": "markdown",
   "metadata": {},
   "source": [
    "# Other features"
   ]
  },
  {
   "cell_type": "markdown",
   "metadata": {},
   "source": [
    "* `Dataset` -- key/value store; generalisation of `DataFrame` in `pandas` for N-dimenisonal data\n",
    "* groupby/split/combine\n",
    "* NetCDF io"
   ]
  },
  {
   "cell_type": "code",
   "execution_count": null,
   "metadata": {
    "collapsed": true
   },
   "outputs": [],
   "source": []
  }
 ],
 "metadata": {
  "kernelspec": {
   "display_name": "Python 2",
   "language": "python",
   "name": "python2"
  },
  "language_info": {
   "codemirror_mode": {
    "name": "ipython",
    "version": 2
   },
   "file_extension": ".py",
   "mimetype": "text/x-python",
   "name": "python",
   "nbconvert_exporter": "python",
   "pygments_lexer": "ipython2",
   "version": "2.7.11"
  }
 },
 "nbformat": 4,
 "nbformat_minor": 0
}
