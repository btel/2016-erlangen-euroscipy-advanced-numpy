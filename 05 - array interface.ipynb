{
 "cells": [
  {
   "cell_type": "markdown",
   "metadata": {},
   "source": [
    "# Interoperability between NumPy and external libraries"
   ]
  },
  {
   "cell_type": "markdown",
   "metadata": {},
   "source": [
    "## Converting ndarray to PIL Image"
   ]
  },
  {
   "cell_type": "markdown",
   "metadata": {},
   "source": [
    "*The following is based on an example by Pauli Virtanen in [Scipy lectures](http://www.scipy-lectures.org/advanced/advanced_numpy/index.html#interoperability-features).*"
   ]
  },
  {
   "cell_type": "code",
   "execution_count": null,
   "metadata": {
    "collapsed": false
   },
   "outputs": [],
   "source": [
    "from PIL import Image\n",
    "import numpy as np\n",
    "# In PIL, RGB images consist of 4-byte integers whose bytes are [RR,GG,BB, AA]\n",
    "data = np.zeros((200, 200), dtype=[('r', np.uint8),\n",
    "                                   ('g', np.uint8),\n",
    "                                   ('b', np.uint8),\n",
    "                                   ('a', np.uint8)])\n",
    "img = Image.fromarray(data, mode='RGBA')\n",
    "data['b'] =  255 # Red\n",
    "data['a'] = 255\n",
    "img"
   ]
  },
  {
   "cell_type": "markdown",
   "metadata": {},
   "source": [
    "NumPy and PIL share the same block of memory!"
   ]
  },
  {
   "cell_type": "code",
   "execution_count": null,
   "metadata": {
    "collapsed": false
   },
   "outputs": [],
   "source": [
    "data['r']=255\n",
    "img"
   ]
  },
  {
   "cell_type": "markdown",
   "metadata": {},
   "source": [
    "## Converting PIL Image to ndarray"
   ]
  },
  {
   "cell_type": "code",
   "execution_count": null,
   "metadata": {
    "collapsed": false
   },
   "outputs": [],
   "source": [
    "from PIL import Image\n",
    "img = Image.open('lena.jpg')\n",
    "img"
   ]
  },
  {
   "cell_type": "code",
   "execution_count": null,
   "metadata": {
    "collapsed": false
   },
   "outputs": [],
   "source": [
    "arr = np.asarray(img)\n",
    "arr.shape"
   ]
  },
  {
   "cell_type": "markdown",
   "metadata": {},
   "source": [
    "Unfortunately, PIL gives only read-only acces to the memory block."
   ]
  },
  {
   "cell_type": "code",
   "execution_count": null,
   "metadata": {
    "collapsed": false
   },
   "outputs": [],
   "source": [
    "# arr /= 2"
   ]
  },
  {
   "cell_type": "markdown",
   "metadata": {},
   "source": [
    "## The \\_\\_array\\_interface\\_\\_\n",
    "\n",
    "Any object that exposes a suitable dictionary named\n",
    "``__array_interface__`` may be converted to a NumPy array. This is\n",
    "handy for exchanging data with external libraries. The array interface\n",
    "has the following important keys (see\n",
    "http://docs.scipy.org/doc/numpy/reference/arrays.interface.html):\n",
    "\n",
    " - **shape**: Tuple whose elements are the array size in each dimension.\n",
    " - **typestr**: A string providing the basic type of the homogenous array. It consists of 3 characters - endiannes, type and number of bytes)\n",
    " - **data**: (20495857, True); 2-tuple—pointer to data and boolean to\n",
    "indicate whether memory is read-only\n",
    " - **strides**\n",
    " - **version**: 3"
   ]
  },
  {
   "cell_type": "code",
   "execution_count": null,
   "metadata": {
    "collapsed": false
   },
   "outputs": [],
   "source": [
    "a = np.arange(5)\n",
    "a.__array_interface__"
   ]
  },
  {
   "cell_type": "markdown",
   "metadata": {},
   "source": [
    "## Copy or view"
   ]
  },
  {
   "cell_type": "markdown",
   "metadata": {},
   "source": [
    "Slicing returns view on the same array"
   ]
  },
  {
   "cell_type": "code",
   "execution_count": null,
   "metadata": {
    "collapsed": false
   },
   "outputs": [],
   "source": [
    "a[::2].__array_interface__['data']"
   ]
  },
  {
   "cell_type": "markdown",
   "metadata": {},
   "source": [
    "Fancy indexing returns a copy"
   ]
  },
  {
   "cell_type": "code",
   "execution_count": null,
   "metadata": {
    "collapsed": false
   },
   "outputs": [],
   "source": [
    "a[[0, 2, 4]].__array_interface__['data']"
   ]
  },
  {
   "cell_type": "markdown",
   "metadata": {},
   "source": [
    "## Exercise\n",
    "\n",
    "*Original exercise by Stefan van der Walt and Juan Nunez-Iglesias. Modified by Bartosz Telenczuk.*\n",
    " \n",
    "An author of a foreign package (included with the exercises as\n",
    "``mutable_str.py``) provides a string class that\n",
    "allocates its own memory:\n",
    "\n",
    "```ipython\n",
    "In [1]: from mutable_str import MutableString\n",
    "In [2]: s = MutableString('abcde')\n",
    "In [3]: print s\n",
    "abcde\n",
    "```\n",
    "\n",
    "You'd like to view these mutable (*mutable* means the ability to modify in place)\n",
    "strings as ndarrays, in order to manipulate the underlying memory.\n",
    "\n",
    "Add an `__array_interface__` dictionary attribute to s, then convert s to an\n",
    "ndarray. Numerically add \"2\" to the array (use the in-place operator ``+=``).\n",
    "\n",
    "Then print the original string to ensure that its value was modified.\n",
    "\n",
    "> **Hint:** Documentation for NumPy's ``__array_interface__``\n",
    "  may be found [in the online docs](http://docs.scipy.org/doc/numpy/reference/arrays.interface.html).\n",
    "\n",
    "Here's a skeleton outline:"
   ]
  },
  {
   "cell_type": "code",
   "execution_count": null,
   "metadata": {
    "collapsed": false
   },
   "outputs": [],
   "source": [
    "import numpy as np\n",
    "from mutable_str import MutableString\n",
    "\n",
    "s = MutableString('abcde')\n",
    "\n",
    "# --- EDIT THIS SECTION ---\n",
    "\n",
    "# Create an array interface to this foreign object\n",
    "s.__array_interface__ = {'data' : 'FIXME', # tuple (ptr, is read_only?)\n",
    "                         'shape' : 'FIXME',\n",
    "                         'typestr' : 'FIXME', # typecode unsigned character\n",
    "                         }\n",
    "\n",
    "# --- EDIT THIS SECTION ---\n",
    "\n",
    "print('String before converting to array:', s)\n",
    "sa = np.asarray(s)\n",
    "\n",
    "print('String after converting to array:', sa)\n",
    "\n",
    "sa += 2\n",
    "print('String after adding \"2\" to array:', s)"
   ]
  },
  {
   "cell_type": "markdown",
   "metadata": {
    "collapsed": true
   },
   "source": [
    "\n",
    "## Extra reading\n",
    "\n",
    "* SciPy lectures: http://www.scipy-lectures.org/advanced/advanced_numpy/index.html#interoperability-features\n",
    "* PEP 3118 -- Revising the buffer protocol: https://www.python.org/dev/peps/pep-3118/\n",
    "* Introduction to buffer protocol: https://jakevdp.github.io/blog/2014/05/05/introduction-to-the-python-buffer-protocol/"
   ]
  },
  {
   "cell_type": "code",
   "execution_count": null,
   "metadata": {
    "collapsed": true
   },
   "outputs": [],
   "source": []
  }
 ],
 "metadata": {
  "kernelspec": {
   "display_name": "Python 3",
   "language": "python",
   "name": "python3"
  },
  "language_info": {
   "codemirror_mode": {
    "name": "ipython",
    "version": 3
   },
   "file_extension": ".py",
   "mimetype": "text/x-python",
   "name": "python",
   "nbconvert_exporter": "python",
   "pygments_lexer": "ipython3",
   "version": "3.5.2"
  }
 },
 "nbformat": 4,
 "nbformat_minor": 0
}
