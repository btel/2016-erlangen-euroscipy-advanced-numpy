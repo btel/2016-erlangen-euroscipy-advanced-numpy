{
 "cells": [
  {
   "cell_type": "markdown",
   "metadata": {},
   "source": [
    "# Universal functions"
   ]
  },
  {
   "cell_type": "markdown",
   "metadata": {},
   "source": [
    "From NumPy [docs](http://docs.scipy.org/doc/numpy/reference/ufuncs.html):\n",
    "    \n",
    "> A universal function (or ufunc for short) is a function that operates on ndarrays in an element-by-element fashion, supporting array broadcasting, type casting, and several other standard features. That is, a ufunc is a “**vectorized**” wrapper for a function that takes a **fixed number of scalar inputs** and produces a **fixed number of scalar outputs**."
   ]
  },
  {
   "cell_type": "markdown",
   "metadata": {},
   "source": [
    "## Universal functions"
   ]
  },
  {
   "cell_type": "code",
   "execution_count": null,
   "metadata": {
    "collapsed": false
   },
   "outputs": [],
   "source": [
    "import numpy as np\n",
    "np.info(np.add)"
   ]
  },
  {
   "cell_type": "markdown",
   "metadata": {},
   "source": [
    "### Keyword arguments:\n",
    "    \n",
    "* `out` -- where to store output \n",
    "* `where` -- boolean array showing for which elements of the input arrays to calculate the ufunc"
   ]
  },
  {
   "cell_type": "code",
   "execution_count": null,
   "metadata": {
    "collapsed": false
   },
   "outputs": [],
   "source": [
    "out = np.zeros(2)\n",
    "np.add([1,2], [3,4], where=[False, True], out=out)\n",
    "out"
   ]
  },
  {
   "cell_type": "markdown",
   "metadata": {},
   "source": [
    "### Methods\n",
    "\n",
    "`reduce`, `accumulate`, `reduceat`, `outer`,  `at`"
   ]
  },
  {
   "cell_type": "code",
   "execution_count": null,
   "metadata": {
    "collapsed": false
   },
   "outputs": [],
   "source": [
    "np.add.reduce([1, 2, 3])"
   ]
  },
  {
   "cell_type": "code",
   "execution_count": null,
   "metadata": {
    "collapsed": false
   },
   "outputs": [],
   "source": [
    "np.add.accumulate([1, 2, 3])"
   ]
  },
  {
   "cell_type": "code",
   "execution_count": null,
   "metadata": {
    "collapsed": false
   },
   "outputs": [],
   "source": [
    "np.add.outer([1, 2, 3], [1, 2, 3])"
   ]
  },
  {
   "cell_type": "markdown",
   "metadata": {},
   "source": [
    "### Quiz\n",
    "\n",
    "What will be the content of `arr`?\n",
    "\n",
    "```python\n",
    "arr = np.array([4, 2, 3.])\n",
    "arr[[0, 1, 2, 2]]+= 1\n",
    "```"
   ]
  },
  {
   "cell_type": "code",
   "execution_count": null,
   "metadata": {
    "collapsed": false
   },
   "outputs": [],
   "source": [
    "arr = np.array([4, 2, 3.])\n",
    "np.add.at(arr, [0, 1, 2, 2], 1)\n",
    "arr"
   ]
  },
  {
   "cell_type": "markdown",
   "metadata": {},
   "source": [
    "### Exercise\n",
    "\n",
    "Calculate the product of all elements of `a`:\n",
    "```\n",
    "a = np.random.randn(10)\n",
    "```"
   ]
  },
  {
   "cell_type": "markdown",
   "metadata": {},
   "source": [
    "### Exercise\n",
    "\n",
    "*Exercise from [NumPy 100 exercises](https://github.com/rougier/numpy-100/blob/master/100%20Numpy%20exercises.md)*:\n",
    "\n",
    "Compute `((A+B)*(-A/2))` in place (without a copy):\n",
    "\n",
    "```\n",
    "A = np.ones(3)*1\n",
    "B = np.ones(3)*2\n",
    "```\n",
    "\n",
    "**Hint**: Use `out` argument of ufuncs."
   ]
  },
  {
   "cell_type": "markdown",
   "metadata": {},
   "source": [
    "## Generalised ufuncs"
   ]
  },
  {
   "cell_type": "markdown",
   "metadata": {},
   "source": [
    "In regular ufuncs, the elementary function is limited to element-by-element operations, whereas the generalized version (gufuncs) supports “sub-array” by “sub-array” operations. \n",
    "\n",
    "For example,\n",
    "\n",
    "`np.add` (standard ufunc) has the following signature `(), () -> ()` i.e. it produces a scalar from two scalars"
   ]
  },
  {
   "cell_type": "code",
   "execution_count": null,
   "metadata": {
    "collapsed": false
   },
   "outputs": [],
   "source": [
    "np.add(1, 2)"
   ]
  },
  {
   "cell_type": "markdown",
   "metadata": {},
   "source": [
    "`np.linalg.det` (generalised ufunc or gufunc) has the following signature `(m,m) -> ()`, i.e. it takes a single square matrix and produces a scalar"
   ]
  },
  {
   "cell_type": "code",
   "execution_count": null,
   "metadata": {
    "collapsed": false
   },
   "outputs": [],
   "source": [
    "np.linalg.det([[1, 2], [3, 4]])"
   ]
  },
  {
   "cell_type": "markdown",
   "metadata": {},
   "source": [
    "If inputs have larger number of dimensions the `(g)func`s will broadcast and iterate over the remaining dimensions."
   ]
  },
  {
   "cell_type": "code",
   "execution_count": null,
   "metadata": {
    "collapsed": false
   },
   "outputs": [],
   "source": [
    "np.add([1, 2], [3, 4]) # (2,), (2,) -> (2,)"
   ]
  },
  {
   "cell_type": "code",
   "execution_count": null,
   "metadata": {
    "collapsed": false
   },
   "outputs": [],
   "source": [
    "np.linalg.det(np.random.randn(3, 2, 2)) # (3, 2, 2) -> (3,)"
   ]
  },
  {
   "cell_type": "markdown",
   "metadata": {},
   "source": [
    "Note that this implements linear algebra methods for stacked arrays!"
   ]
  },
  {
   "cell_type": "markdown",
   "metadata": {},
   "source": [
    "## `einsum`"
   ]
  },
  {
   "cell_type": "markdown",
   "metadata": {},
   "source": [
    "`np.einsum` implements sort-of gufunc functionality for operations involving only sums and products. To calculate outer product of two vectors:"
   ]
  },
  {
   "cell_type": "code",
   "execution_count": null,
   "metadata": {
    "collapsed": false
   },
   "outputs": [],
   "source": [
    "a = np.arange(2)\n",
    "b = np.arange(3)\n",
    "\n",
    "np.einsum('i,j->ij', a, b)"
   ]
  },
  {
   "cell_type": "markdown",
   "metadata": {},
   "source": [
    "If the same letter appears for two left-hand arguments, the corresponding elements will be multiplied. If a letter appears only on the left-hand side but not right-hand side, the corresponing dimension will be summed out."
   ]
  },
  {
   "cell_type": "markdown",
   "metadata": {},
   "source": [
    "To work with stacked arrays, you can put ellipsis (`...`) in place of broadcasted dimensions:"
   ]
  },
  {
   "cell_type": "code",
   "execution_count": null,
   "metadata": {
    "collapsed": false
   },
   "outputs": [],
   "source": [
    "A = np.random.rand(5, 1, 2)\n",
    "B = np.random.rand(1, 4, 3)\n",
    "C = np.einsum('...i,...j->...ij', A, B)\n",
    "C.shape"
   ]
  },
  {
   "cell_type": "markdown",
   "metadata": {},
   "source": [
    "### Exercise  (`np.einsum`)\n",
    "\n",
    "*Exercise from [100 numpy exercises](https://github.com/rougier/numpy-100)*\n",
    "\n",
    "Use `np.einsum` to calculate the **diagonal of a dot product** of two matrices (`np.diag(np.dot(A, B))`).\n",
    "\n",
    "```\n",
    "A = np.arange(6).reshape(3, 2)\n",
    "B = np.ones((2, 3))\n",
    "np.einsum('your signature goes here', A, B)\n",
    "```\n",
    "\n",
    "Then, test your solution on stacked arrays:\n",
    "\n",
    "```\n",
    "A = np.arange(12).reshape(2, 3, 2)\n",
    "B = np.ones((2, 3))\n",
    "```"
   ]
  },
  {
   "cell_type": "markdown",
   "metadata": {},
   "source": [
    "## Further reading\n",
    "* Ufuncs: http://docs.scipy.org/doc/numpy/reference/ufuncs.html\n",
    "* Basic guide to einsum, http://ajcr.net/Basic-guide-to-einsum/"
   ]
  },
  {
   "cell_type": "code",
   "execution_count": null,
   "metadata": {
    "collapsed": true
   },
   "outputs": [],
   "source": []
  }
 ],
 "metadata": {
  "kernelspec": {
   "display_name": "Python 3",
   "language": "python",
   "name": "python3"
  },
  "language_info": {
   "codemirror_mode": {
    "name": "ipython",
    "version": 3
   },
   "file_extension": ".py",
   "mimetype": "text/x-python",
   "name": "python",
   "nbconvert_exporter": "python",
   "pygments_lexer": "ipython3",
   "version": "3.5.2"
  }
 },
 "nbformat": 4,
 "nbformat_minor": 0
}
