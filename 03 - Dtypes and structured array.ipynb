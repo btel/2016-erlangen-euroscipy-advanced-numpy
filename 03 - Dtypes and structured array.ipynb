{
 "cells": [
  {
   "cell_type": "markdown",
   "metadata": {},
   "source": [
    "## Data type (`dtype`)\n",
    "\n",
    "In contrast to built-in Python containers (like lists)  NumPy arrays can store elements of pre-determined type only. All elements of an array must be of the same type. To see the type of array contents you can use the `dtype` attribute."
   ]
  },
  {
   "cell_type": "code",
   "execution_count": null,
   "metadata": {
    "collapsed": false
   },
   "outputs": [],
   "source": [
    "import numpy as np\n",
    "a = np.array([1., 2])\n",
    "a.dtype"
   ]
  },
  {
   "cell_type": "markdown",
   "metadata": {},
   "source": [
    "## Quiz: Data types\n",
    "\n",
    "Guess the data type of the following arrays:\n",
    "\n",
    "```\n",
    "a = np.array([[1, 2], \n",
    "              [2, 3]])\n",
    "b = np.array(['a', 'b', 'c'])\n",
    "c = np.array([1, 2, 'a'])\n",
    "d = np.array([np.dot, np.array])\n",
    "e = np.random.randn(5) > 0\n",
    "f = np.arange(5)\n",
    "g = np.array([[1], [2, 3]])\n",
    "```"
   ]
  },
  {
   "cell_type": "markdown",
   "metadata": {},
   "source": [
    "## Exercise: Overflow\n",
    "\n",
    "Construct the array \n",
    "```python\n",
    "x = np.array([0, 1, 2, 255], dtype=np.uint8)\n",
    "```\n",
    "\n",
    "Can\n",
    "you explain the difference obtained by `x + 1` and `x.astype(int) + 1`?"
   ]
  },
  {
   "cell_type": "markdown",
   "metadata": {},
   "source": [
    "## Structured arrays"
   ]
  },
  {
   "cell_type": "markdown",
   "metadata": {},
   "source": [
    "`dtype` may also be a structure of several items as long as they are the same type. You can find out more from the examples in the docs:"
   ]
  },
  {
   "cell_type": "code",
   "execution_count": null,
   "metadata": {
    "collapsed": false
   },
   "outputs": [],
   "source": [
    "np.info(np.dtype)"
   ]
  },
  {
   "cell_type": "code",
   "execution_count": null,
   "metadata": {
    "collapsed": false
   },
   "outputs": [],
   "source": [
    "rec_array = np.array([(0, 'a'), \n",
    "                      (1, 'b'),\n",
    "                      (2, 'c')], dtype=[('a', np.int32), ('b', '|S1')])"
   ]
  },
  {
   "cell_type": "markdown",
   "metadata": {},
   "source": [
    "Structured array is somewhat similar to a table with multiple rows and columns. You can access different fields by their name:"
   ]
  },
  {
   "cell_type": "code",
   "execution_count": null,
   "metadata": {
    "collapsed": false
   },
   "outputs": [],
   "source": [
    "rec_array['a']"
   ]
  },
  {
   "cell_type": "code",
   "execution_count": null,
   "metadata": {
    "collapsed": false
   },
   "outputs": [],
   "source": [
    "rec_array['b']"
   ]
  },
  {
   "cell_type": "markdown",
   "metadata": {},
   "source": [
    "If you index by an integer you get a single row:"
   ]
  },
  {
   "cell_type": "code",
   "execution_count": null,
   "metadata": {
    "collapsed": false
   },
   "outputs": [],
   "source": [
    "rec_array[0]"
   ]
  },
  {
   "cell_type": "markdown",
   "metadata": {},
   "source": [
    "### Quiz\n",
    "\n",
    "Can you predict the `shape` and `strides` of the following array:\n",
    "\n",
    "```python\n",
    "A = np.array([('a', 0),\n",
    "              ('b', 1),\n",
    "              ('c', 2)], dtype=[('name', '|S1'), \n",
    "                                ('value', np.int8)])\n",
    "```"
   ]
  },
  {
   "cell_type": "markdown",
   "metadata": {},
   "source": [
    "### Exercise: Structured data types\n",
    "\n",
    "*This exercise was proposed by Stéfan van der Walt (https://python.g-node.org/python-summerschool-2014/_media/numpy_advanced.tar.bz2)*\n",
    "\n",
    "Design a data-type for storing the following record:\n",
    "\n",
    " - Timestamp in nanoseconds (a 64-bit unsigned integer)\n",
    " - Position (x- and y-coordinates, stored as floating point numbers)\n",
    "\n",
    "Use it to represent the following data:\n",
    "\n",
    "```\n",
    "dt = np.dtype(<your code here>)\n",
    "x = np.array([(100, (0, 0.5)),\n",
    "              (200, (0, 10.3)),\n",
    "              (300, (5.5, 15.1))], dtype=dt)\n",
    "```\n",
    "\n",
    "Have a look at the ``np.dtype`` docstring if you need help.\n",
    "After constructing ``x``, try to print all the ``x`` values for which timestamp\n",
    "is greater than 100 (hint: something of the form ``y[y > 100]``)."
   ]
  },
  {
   "cell_type": "markdown",
   "metadata": {
    "collapsed": true
   },
   "source": [
    "### Exercise: Structured file I/O\n",
    "\n",
    "*Modified from exercise by Stéfan van der Walt (https://python.g-node.org/python-summerschool-2014/_media/numpy_advanced.tar.bz2)*\n",
    "\n",
    "Given the ``data.txt`` file with the following content:"
   ]
  },
  {
   "cell_type": "code",
   "execution_count": null,
   "metadata": {
    "collapsed": false
   },
   "outputs": [],
   "source": [
    "%%file data.txt\n",
    "#rank         lemma (10 letters max)      frequency       dispersion\n",
    "21             they                        1865844         0.96\n",
    "42             her                         969591          0.91\n",
    "49             as                          829018          0.95\n",
    "7              to                          6332195         0.98\n",
    "63             take                        670745          0.97\n",
    "14             you                         3085642         0.92\n",
    "35             go                          1151045         0.93\n",
    "56             think                       772787          0.91\n",
    "28             not                         1638883         0.98"
   ]
  },
  {
   "cell_type": "markdown",
   "metadata": {
    "collapsed": true
   },
   "source": [
    "Design a suitable structured data type, then load the data from the text\n",
    "file using ``np.loadtxt``.  Here's a skeleton to start with:\n",
    "\n",
    "```python\n",
    "import numpy as np\n",
    "data = np.loadtxt('data.txt', dtype=...)  # Modify this line\n",
    "```\n",
    "\n",
    "Examine the data you got:\n",
    " - Extract words only\n",
    " - Extract the 3rd row\n",
    " - Print all words with ``rank < 30``\n",
    " - Sort the data according to frequency (see np.sort)."
   ]
  },
  {
   "cell_type": "markdown",
   "metadata": {},
   "source": [
    "## Further reading\n",
    "\n",
    "* NumPy Docs, http://docs.scipy.org/doc/numpy/user/basics.rec.html"
   ]
  },
  {
   "cell_type": "code",
   "execution_count": null,
   "metadata": {
    "collapsed": true
   },
   "outputs": [],
   "source": []
  }
 ],
 "metadata": {
  "kernelspec": {
   "display_name": "Python 3",
   "language": "python",
   "name": "python3"
  },
  "language_info": {
   "codemirror_mode": {
    "name": "ipython",
    "version": 3
   },
   "file_extension": ".py",
   "mimetype": "text/x-python",
   "name": "python",
   "nbconvert_exporter": "python",
   "pygments_lexer": "ipython3",
   "version": "3.5.2"
  }
 },
 "nbformat": 4,
 "nbformat_minor": 0
}
