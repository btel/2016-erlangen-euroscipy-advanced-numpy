{
 "cells": [
  {
   "cell_type": "markdown",
   "metadata": {},
   "source": [
    "# 4. `xarray`"
   ]
  },
  {
   "cell_type": "markdown",
   "metadata": {},
   "source": [
    "## Exercise\n",
    "\n",
    "These two arrays contain average monthly temperatures (in Celsius degrees) in Erlangen and Paris:\n",
    "\n",
    "```\n",
    "erlangen = [-0.5, 0.7, 4.4, 8.5, 13.3, 16.7, 18.2, 17.5, 13.7, 8.9, 4.0, 0.9]\n",
    "paris = [3.3, 4.2, 7.8, 10.8, 14.3, 17.5, 19.4, 19.1, 16.4, 11.6, 7.2, 4.2]\n",
    "```\n",
    "\n",
    "Design a `DataArray` for storing these data. Calculate average annual temperature per location."
   ]
  },
  {
   "cell_type": "code",
   "execution_count": 1,
   "metadata": {
    "collapsed": false
   },
   "outputs": [
    {
     "data": {
      "text/plain": [
       "<xarray.DataArray (city: 2)>\n",
       "array([  8.85833333,  11.31666667])\n",
       "Coordinates:\n",
       "  * city     (city) <U8 'erlangen' 'paris'"
      ]
     },
     "execution_count": 1,
     "metadata": {},
     "output_type": "execute_result"
    }
   ],
   "source": [
    "import xarray as xr\n",
    "import numpy as np\n",
    "erlangen = [-0.5, 0.7, 4.4, 8.5, 13.3, 16.7, 18.2, 17.5, 13.7, 8.9, 4.0, 0.9]\n",
    "paris = [3.3, 4.2, 7.8, 10.8, 14.3, 17.5, 19.4, 19.1, 16.4, 11.6, 7.2, 4.2]\n",
    "\n",
    "months = np.arange(12) + 1\n",
    "temperature = xr.DataArray([erlangen, paris], [('city', ['erlangen', 'paris']),\n",
    "                                               ('month', months)])\n",
    "temperature.mean('month')"
   ]
  },
  {
   "cell_type": "markdown",
   "metadata": {},
   "source": [
    "## Exercise\n",
    "\n",
    "*Inspired by data science [challenge](http://www.ramp.studio/events/drug_spectra) by C. Marini et al*\n",
    "\n",
    "A researcher measured a [Raman spectrum](https://en.wikipedia.org/wiki/Raman_spectroscopy) of an unknown sample. Now he wants to determine the substance and its concentration. He has calibration data with Raman spectra of four different compounds at three different concentrations. Calculate mean square error between sample and all calibration spectra and find the closest compound and concentration.\n",
    "\n",
    "```python\n",
    "import pandas as pd\n",
    "df = pd.DataFrame.from_csv('raman_data.csv', index_col=[0, 1, 2])\n",
    "calibration = xr.DataArray.from_series(df['Raman'])\n",
    "\n",
    "sample = xr.DataArray([[0, 10]], [('sample', ['X1042']),\n",
    "                                  ('wavelength', [100, 300])])\n",
    "```\n",
    "\n",
    "**Hint**: To find the calibration sample with minimum error, you may convert the DataArray to pandas:\n",
    "\n",
    "```python\n",
    "err.to_series().argmin()\n",
    "```"
   ]
  },
  {
   "cell_type": "code",
   "execution_count": 2,
   "metadata": {
    "collapsed": false
   },
   "outputs": [],
   "source": [
    "# Code used to generate the calibration data\n",
    "import xarray as xr\n",
    "import numpy as np\n",
    "\n",
    "spectra = np.array([[0, 1, 0], [1, 0, 0], [0, 0, 1], [0, 1, 1]])\n",
    "concentrations = np.array([1., 10., 100.])\n",
    "data = spectra * concentrations[:, None, None]\n",
    "dataarray = xr.DataArray(data, [\n",
    "                               ('concentration', [1, 2, 5]),\n",
    "                               ('compound', ['A', 'B', 'C', 'D']),\n",
    "                               ('wavelength', [100, 200, 300])\n",
    "                               ],\n",
    "                              name='Raman')\n",
    "\n",
    "dataarray.to_dataframe().to_csv('raman_data.csv')"
   ]
  },
  {
   "cell_type": "code",
   "execution_count": 3,
   "metadata": {
    "collapsed": false
   },
   "outputs": [
    {
     "data": {
      "text/plain": [
       "(2, 'C', 'X1042')"
      ]
     },
     "execution_count": 3,
     "metadata": {},
     "output_type": "execute_result"
    }
   ],
   "source": [
    "# Solution \n",
    "\n",
    "import pandas as pd\n",
    "df = pd.DataFrame.from_csv('raman_data.csv', index_col=[0, 1, 2])\n",
    "calibration = xr.DataArray.from_series(df['Raman'])\n",
    "\n",
    "sample = xr.DataArray([[0, 10]], [('sample', ['X1042']),\n",
    "                                  ('wavelength', [100, 300])])\n",
    "\n",
    "err = ((calibration - sample)**2).sum('wavelength')\n",
    "err.to_series().argmin()"
   ]
  },
  {
   "cell_type": "markdown",
   "metadata": {},
   "source": [
    "# 5. Array interface"
   ]
  },
  {
   "cell_type": "markdown",
   "metadata": {},
   "source": [
    "## Exercise\n",
    "\n",
    "Original exercise by Stefan van der Walt and Juan Nunez-Iglesias.\n",
    "\n",
    "An author of a foreign package (included with the exercizes as\n",
    "``problems/mutable_str.py``) provides a string class that\n",
    "allocates its own memory:\n",
    "\n",
    "```ipython\n",
    "In [1]: from mutable_str import MutableString\n",
    "In [2]: s = MutableString('abcde')\n",
    "In [3]: print s\n",
    "abcde\n",
    "```\n",
    "\n",
    "You'd like to view these mutable (*mutable* means the ability to modify in place)\n",
    "strings as ndarrays, in order to manipulate the underlying memory.\n",
    "\n",
    "Add an __array_interface__ dictionary attribute to s, then convert s to an\n",
    "ndarray. Numerically add \"2\" to the array (use the in-place operator ``+=``).\n",
    "\n",
    "Then print the original string to ensure that its value was modified.\n",
    "\n",
    "> **Hint:** Documentation for NumPy's ``__array_interface__``\n",
    "  may be found [in the online docs](http://docs.scipy.org/doc/numpy/reference/arrays.interface.html).\n",
    "\n",
    "Here's a skeleton outline:\n",
    "\n",
    "```python\n",
    "import numpy as np\n",
    "from mutable_str import MutableString\n",
    "\n",
    "s = MutableString('abcde')\n",
    "\n",
    "# --- EDIT THIS SECTION ---\n",
    "\n",
    "# Create an array interface to this foreign object\n",
    "s.__array_interface__ = {'data' : XXX # (ptr, is read_only?)\n",
    "                         'shape' : XXX,\n",
    "                         'typestr' : XXX, # typecode unsigned character\n",
    "                         }\n",
    "\n",
    "# --- EDIT THIS SECTION ---\n",
    "\n",
    "print('String before converting to array:', s)\n",
    "sa = np.asarray(s)\n",
    "\n",
    "print('String after converting to array:', sa)\n",
    "\n",
    "sa += 2\n",
    "print('String after adding \"2\" to array:', s)\n",
    "```"
   ]
  },
  {
   "cell_type": "code",
   "execution_count": 4,
   "metadata": {
    "collapsed": false
   },
   "outputs": [
    {
     "name": "stdout",
     "output_type": "stream",
     "text": [
      "String before converting to array: abcde\u0000\n",
      "String after converting to array: [ 97  98  99 100 101]\n",
      "String after adding \"2\" to array: cdefg\u0000\n"
     ]
    }
   ],
   "source": [
    "import numpy as np\n",
    "from mutable_str import MutableString\n",
    "\n",
    "s = MutableString('abcde')\n",
    "\n",
    "# --- EDIT THIS SECTION ---\n",
    "\n",
    "# Create an array interface to this foreign object\n",
    "s.__array_interface__ = {'data' : (s.data_ptr, False), # (ptr, is read_only?)\n",
    "                         'shape' : (len(s),),\n",
    "                         'typestr' : '|u1', # typecode unsigned character\n",
    "                         }\n",
    "\n",
    "# --- EDIT THIS SECTION ---\n",
    "\n",
    "print('String before converting to array:', s)\n",
    "sa = np.asarray(s)\n",
    "\n",
    "print('String after converting to array:', sa)\n",
    "\n",
    "sa += 2\n",
    "print('String after adding \"2\" to array:', s)"
   ]
  },
  {
   "cell_type": "markdown",
   "metadata": {},
   "source": [
    "# 6. Ufuncs"
   ]
  },
  {
   "cell_type": "markdown",
   "metadata": {},
   "source": [
    "### Exercise\n",
    "\n",
    "*Exercise from [NumPy 100 exercises](https://github.com/rougier/numpy-100/blob/master/100%20Numpy%20exercises.md)*:\n",
    "\n",
    "Compute `((A+B)*(-A/2))` in place (without a copy):\n",
    "\n",
    "```\n",
    "A = np.ones(3)*1\n",
    "B = np.ones(3)*2\n",
    "```\n",
    "\n",
    "**Hint**: Use `out` argument of ufuncs."
   ]
  },
  {
   "cell_type": "code",
   "execution_count": 5,
   "metadata": {
    "collapsed": false
   },
   "outputs": [
    {
     "data": {
      "text/plain": [
       "array([-1.5, -1.5, -1.5])"
      ]
     },
     "execution_count": 5,
     "metadata": {},
     "output_type": "execute_result"
    }
   ],
   "source": [
    "A = np.ones(3)*1\n",
    "B = np.ones(3)*2\n",
    "\n",
    "np.add(A, B, out=B)\n",
    "np.divide(A,2,out=A)\n",
    "np.negative(A,out=A)\n",
    "np.multiply(A,B,out=A)"
   ]
  },
  {
   "cell_type": "markdown",
   "metadata": {},
   "source": [
    "### Exercise  (`np.einsum`)\n",
    "\n",
    "*Exercise from [100 numpy exercises](https://github.com/rougier/numpy-100)*\n",
    "\n",
    "Use `np.einsum` to calculate the **diagonal of a dot product** of two matrices (`np.diag(np.dot(A, B))`).\n",
    "\n",
    "```\n",
    "A = np.arange(6).reshape(3, 2)\n",
    "B = np.ones((2, 3))\n",
    "np.einsum('your signature goes here', A, B)\n",
    "```\n",
    "\n",
    "Then, test your solution on stacked arrays:\n",
    "\n",
    "```\n",
    "A = np.arange(12).reshape(2, 3, 2)\n",
    "B = np.ones((2, 3))\n",
    "```"
   ]
  },
  {
   "cell_type": "code",
   "execution_count": 6,
   "metadata": {
    "collapsed": false
   },
   "outputs": [
    {
     "data": {
      "text/plain": [
       "array([[  1.,   5.,   9.],\n",
       "       [ 13.,  17.,  21.]])"
      ]
     },
     "execution_count": 6,
     "metadata": {},
     "output_type": "execute_result"
    }
   ],
   "source": [
    "A = np.arange(12).reshape(2, 3, 2)\n",
    "B = np.ones((2, 3))\n",
    "np.einsum('...ij,...ji->...i', A, B)"
   ]
  },
  {
   "cell_type": "markdown",
   "metadata": {},
   "source": [
    "\n",
    "# 7. Extending NumPy"
   ]
  },
  {
   "cell_type": "markdown",
   "metadata": {},
   "source": [
    "### Exercise\n",
    "\n",
    "Take the following function calculating logit and turn it into a ufunc using the above example.\n",
    "\n",
    "```cython\n",
    "\n",
    "cdef extern from \"math.h\":\n",
    "    double log \"log\" (double) nogil\n",
    "    \n",
    "import cython\n",
    "\n",
    "@cython.cdivision(True)\n",
    "cdef double logit_double(double p) nogil:\n",
    "    p = p/(1-p);\n",
    "    p = log(p);\n",
    "    return p\n",
    "```"
   ]
  },
  {
   "cell_type": "code",
   "execution_count": 7,
   "metadata": {
    "collapsed": false
   },
   "outputs": [],
   "source": [
    "%load_ext cython"
   ]
  },
  {
   "cell_type": "code",
   "execution_count": 8,
   "metadata": {
    "collapsed": false
   },
   "outputs": [],
   "source": [
    "%%cython\n",
    "\n",
    "# The elementwise function\n",
    "\n",
    "cdef extern from \"math.h\":\n",
    "    double log \"log\" (double) nogil\n",
    "    \n",
    "import cython\n",
    "\n",
    "@cython.cdivision(True)\n",
    "cdef double logit_double(double p) nogil:\n",
    "    p = p/(1-p);\n",
    "    p = log(p);\n",
    "    return p\n",
    "\n",
    "\n",
    "# Required module initialization\n",
    "# ------------------------------\n",
    "\n",
    "cimport numpy as np\n",
    "np.import_array()\n",
    "np.import_ufunc()\n",
    "\n",
    "# The actual ufunc declaration\n",
    "# ----------------------------\n",
    "\n",
    "cdef np.PyUFuncGenericFunction loop_func[1]\n",
    "cdef char input_output_types[2]\n",
    "cdef void *elementwise_funcs[1]\n",
    "\n",
    "loop_func[0] = np.PyUFunc_d_d # generic function to implement looping\n",
    "\n",
    "input_output_types[0] = np.NPY_DOUBLE\n",
    "input_output_types[1] = np.NPY_DOUBLE\n",
    "\n",
    "\n",
    "elementwise_funcs[0] = <void*>logit_double\n",
    "\n",
    "logit = np.PyUFunc_FromFuncAndData(\n",
    "    loop_func,\n",
    "    elementwise_funcs,\n",
    "    input_output_types,\n",
    "    1, # number of supported input types\n",
    "    1, # number of input args\n",
    "    1, # number of output args\n",
    "    0, # `identity` element, never mind this\n",
    "    \"logit\", # function name\n",
    "    \"computes logit\", # docstring\n",
    "    0 # unused\n",
    "    )\n"
   ]
  },
  {
   "cell_type": "code",
   "execution_count": 9,
   "metadata": {
    "collapsed": false
   },
   "outputs": [
    {
     "data": {
      "text/plain": [
       "array([ 2.19722458, -0.84729786])"
      ]
     },
     "execution_count": 9,
     "metadata": {},
     "output_type": "execute_result"
    }
   ],
   "source": [
    "import numpy as np\n",
    "a = np.array([0.9, 0.3], dtype=np.double)\n",
    "logit(a)"
   ]
  },
  {
   "cell_type": "code",
   "execution_count": null,
   "metadata": {
    "collapsed": true
   },
   "outputs": [],
   "source": []
  }
 ],
 "metadata": {
  "kernelspec": {
   "display_name": "Python 3",
   "language": "python",
   "name": "python3"
  },
  "language_info": {
   "codemirror_mode": {
    "name": "ipython",
    "version": 3
   },
   "file_extension": ".py",
   "mimetype": "text/x-python",
   "name": "python",
   "nbconvert_exporter": "python",
   "pygments_lexer": "ipython3",
   "version": "3.5.2"
  }
 },
 "nbformat": 4,
 "nbformat_minor": 0
}
