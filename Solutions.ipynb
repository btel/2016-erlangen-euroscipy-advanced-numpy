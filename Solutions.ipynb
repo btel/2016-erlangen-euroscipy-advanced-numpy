{
 "cells": [
  {
   "cell_type": "markdown",
   "metadata": {},
   "source": [
    "# 5. Array interface"
   ]
  },
  {
   "cell_type": "markdown",
   "metadata": {},
   "source": [
    "## Exercise\n",
    "\n",
    "Original exercise by Stefan van der Walt and Juan Nunez-Iglesias.\n",
    "\n",
    "An author of a foreign package (included with the exercizes as\n",
    "``problems/mutable_str.py``) provides a string class that\n",
    "allocates its own memory:\n",
    "\n",
    "```ipython\n",
    "In [1]: from mutable_str import MutableString\n",
    "In [2]: s = MutableString('abcde')\n",
    "In [3]: print s\n",
    "abcde\n",
    "```\n",
    "\n",
    "You'd like to view these mutable (*mutable* means the ability to modify in place)\n",
    "strings as ndarrays, in order to manipulate the underlying memory.\n",
    "\n",
    "Add an __array_interface__ dictionary attribute to s, then convert s to an\n",
    "ndarray. Numerically add \"2\" to the array (use the in-place operator ``+=``).\n",
    "\n",
    "Then print the original string to ensure that its value was modified.\n",
    "\n",
    "> **Hint:** Documentation for NumPy's ``__array_interface__``\n",
    "  may be found [in the online docs](http://docs.scipy.org/doc/numpy/reference/arrays.interface.html).\n",
    "\n",
    "Here's a skeleton outline:\n",
    "\n",
    "```python\n",
    "import numpy as np\n",
    "from mutable_str import MutableString\n",
    "\n",
    "s = MutableString('abcde')\n",
    "\n",
    "# --- EDIT THIS SECTION ---\n",
    "\n",
    "# Create an array interface to this foreign object\n",
    "s.__array_interface__ = {'data' : (XXX, False), # (ptr, is read_only?)\n",
    "                         'shape' : XXX,\n",
    "                         'typestr' : '|u1', # typecode unsigned character\n",
    "                         }\n",
    "\n",
    "# --- EDIT THIS SECTION ---\n",
    "\n",
    "print('String before converting to array:', s)\n",
    "sa = np.asarray(s)\n",
    "\n",
    "print('String after converting to array:', sa)\n",
    "\n",
    "sa += 2\n",
    "print('String after adding \"2\" to array:', s)\n",
    "```"
   ]
  },
  {
   "cell_type": "code",
   "execution_count": 29,
   "metadata": {
    "collapsed": false
   },
   "outputs": [
    {
     "name": "stdout",
     "output_type": "stream",
     "text": [
      "String before converting to array: abcde\u0000\n"
     ]
    },
    {
     "ename": "TypeError",
     "evalue": "shape must be a tuple",
     "output_type": "error",
     "traceback": [
      "\u001b[0;31m---------------------------------------------------------------------------\u001b[0m",
      "\u001b[0;31mTypeError\u001b[0m                                 Traceback (most recent call last)",
      "\u001b[0;32m<ipython-input-29-c6ed0f1fd46f>\u001b[0m in \u001b[0;36m<module>\u001b[0;34m()\u001b[0m\n\u001b[1;32m     15\u001b[0m \u001b[0;34m\u001b[0m\u001b[0m\n\u001b[1;32m     16\u001b[0m \u001b[0mprint\u001b[0m\u001b[0;34m(\u001b[0m\u001b[0;34m'String before converting to array:'\u001b[0m\u001b[0;34m,\u001b[0m \u001b[0ms\u001b[0m\u001b[0;34m)\u001b[0m\u001b[0;34m\u001b[0m\u001b[0m\n\u001b[0;32m---> 17\u001b[0;31m \u001b[0msa\u001b[0m \u001b[0;34m=\u001b[0m \u001b[0mnp\u001b[0m\u001b[0;34m.\u001b[0m\u001b[0masarray\u001b[0m\u001b[0;34m(\u001b[0m\u001b[0ms\u001b[0m\u001b[0;34m)\u001b[0m\u001b[0;34m\u001b[0m\u001b[0m\n\u001b[0m\u001b[1;32m     18\u001b[0m \u001b[0;34m\u001b[0m\u001b[0m\n\u001b[1;32m     19\u001b[0m \u001b[0mprint\u001b[0m\u001b[0;34m(\u001b[0m\u001b[0;34m'String after converting to array:'\u001b[0m\u001b[0;34m,\u001b[0m \u001b[0msa\u001b[0m\u001b[0;34m)\u001b[0m\u001b[0;34m\u001b[0m\u001b[0m\n",
      "\u001b[0;32m/home/bartosz/anaconda/envs/euroscipy2016/lib/python3.5/site-packages/numpy/core/numeric.py\u001b[0m in \u001b[0;36masarray\u001b[0;34m(a, dtype, order)\u001b[0m\n\u001b[1;32m    480\u001b[0m \u001b[0;34m\u001b[0m\u001b[0m\n\u001b[1;32m    481\u001b[0m     \"\"\"\n\u001b[0;32m--> 482\u001b[0;31m     \u001b[0;32mreturn\u001b[0m \u001b[0marray\u001b[0m\u001b[0;34m(\u001b[0m\u001b[0ma\u001b[0m\u001b[0;34m,\u001b[0m \u001b[0mdtype\u001b[0m\u001b[0;34m,\u001b[0m \u001b[0mcopy\u001b[0m\u001b[0;34m=\u001b[0m\u001b[0;32mFalse\u001b[0m\u001b[0;34m,\u001b[0m \u001b[0morder\u001b[0m\u001b[0;34m=\u001b[0m\u001b[0morder\u001b[0m\u001b[0;34m)\u001b[0m\u001b[0;34m\u001b[0m\u001b[0m\n\u001b[0m\u001b[1;32m    483\u001b[0m \u001b[0;34m\u001b[0m\u001b[0m\n\u001b[1;32m    484\u001b[0m \u001b[0;32mdef\u001b[0m \u001b[0masanyarray\u001b[0m\u001b[0;34m(\u001b[0m\u001b[0ma\u001b[0m\u001b[0;34m,\u001b[0m \u001b[0mdtype\u001b[0m\u001b[0;34m=\u001b[0m\u001b[0;32mNone\u001b[0m\u001b[0;34m,\u001b[0m \u001b[0morder\u001b[0m\u001b[0;34m=\u001b[0m\u001b[0;32mNone\u001b[0m\u001b[0;34m)\u001b[0m\u001b[0;34m:\u001b[0m\u001b[0;34m\u001b[0m\u001b[0m\n",
      "\u001b[0;31mTypeError\u001b[0m: shape must be a tuple"
     ]
    }
   ],
   "source": [
    "import numpy as np\n",
    "from mutable_str import MutableString\n",
    "\n",
    "s = MutableString('abcde')\n",
    "\n",
    "# --- EDIT THIS SECTION ---\n",
    "\n",
    "# Create an array interface to this foreign object\n",
    "s.__array_interface__ = {'data' : (s.data_ptr, False), # (ptr, is read_only?)\n",
    "                         'shape' : len(s),\n",
    "                         'typestr' : '|u1', # typecode unsigned character\n",
    "                         }\n",
    "\n",
    "# --- EDIT THIS SECTION ---\n",
    "\n",
    "print('String before converting to array:', s)\n",
    "sa = np.asarray(s)\n",
    "\n",
    "print('String after converting to array:', sa)\n",
    "\n",
    "sa += 2\n",
    "print('String after adding \"2\" to array:', s)"
   ]
  },
  {
   "cell_type": "markdown",
   "metadata": {},
   "source": [
    "# 6. Ufuncs"
   ]
  },
  {
   "cell_type": "markdown",
   "metadata": {},
   "source": [
    "### Exercise  (`np.einsum`)\n",
    "\n",
    "*Exercise from [100 numpy exercises](https://github.com/rougier/numpy-100)*\n",
    "\n",
    "Use `np.einsum` to calculate the **diagonal of a dot product** of two matrices (`np.diag(np.dot(A, B))`).\n",
    "\n",
    "```\n",
    "A = np.arange(6).reshape(3, 2)\n",
    "B = np.ones((2, 3))\n",
    "np.einsum('your signature goes here', A, B)\n",
    "```\n",
    "\n",
    "Then, test your solution on stacked arrays:\n",
    "\n",
    "```\n",
    "A = np.arange(12).reshape(2, 3, 2)\n",
    "B = np.ones((2, 3))\n",
    "```"
   ]
  },
  {
   "cell_type": "code",
   "execution_count": 21,
   "metadata": {
    "collapsed": false
   },
   "outputs": [
    {
     "data": {
      "text/plain": [
       "array([[  1.,   5.,   9.],\n",
       "       [ 13.,  17.,  21.]])"
      ]
     },
     "execution_count": 21,
     "metadata": {},
     "output_type": "execute_result"
    }
   ],
   "source": [
    "A = np.arange(12).reshape(2, 3, 2)\n",
    "B = np.ones((2, 3))\n",
    "np.einsum('...ij,...ji->...i', A, B)"
   ]
  },
  {
   "cell_type": "markdown",
   "metadata": {},
   "source": [
    "\n",
    "# 7. Extending NumPy"
   ]
  },
  {
   "cell_type": "markdown",
   "metadata": {},
   "source": [
    "### Exercise\n",
    "\n",
    "Take the following function calculating logit and turn it into a ufunc using the above example.\n",
    "\n",
    "```cython\n",
    "\n",
    "cdef extern from \"math.h\":\n",
    "    double log \"log\" (double) nogil\n",
    "    \n",
    "import cython\n",
    "\n",
    "@cython.cdivision(True)\n",
    "cdef double logit_double(double p) nogil:\n",
    "    p = p/(1-p);\n",
    "    p = log(p);\n",
    "    return p\n",
    "```"
   ]
  },
  {
   "cell_type": "code",
   "execution_count": 13,
   "metadata": {
    "collapsed": false
   },
   "outputs": [
    {
     "name": "stdout",
     "output_type": "stream",
     "text": [
      "The cython extension is already loaded. To reload it, use:\n",
      "  %reload_ext cython\n"
     ]
    }
   ],
   "source": [
    "%load_ext cython"
   ]
  },
  {
   "cell_type": "code",
   "execution_count": 14,
   "metadata": {
    "collapsed": false
   },
   "outputs": [],
   "source": [
    "%%cython\n",
    "\n",
    "# The elementwise function\n",
    "\n",
    "cdef extern from \"math.h\":\n",
    "    double log \"log\" (double) nogil\n",
    "    \n",
    "import cython\n",
    "\n",
    "@cython.cdivision(True)\n",
    "cdef double logit_double(double p) nogil:\n",
    "    p = p/(1-p);\n",
    "    p = log(p);\n",
    "    return p\n",
    "\n",
    "\n",
    "# Required module initialization\n",
    "# ------------------------------\n",
    "\n",
    "cimport numpy as np\n",
    "np.import_array()\n",
    "np.import_ufunc()\n",
    "\n",
    "# The actual ufunc declaration\n",
    "# ----------------------------\n",
    "\n",
    "cdef np.PyUFuncGenericFunction loop_func[1]\n",
    "cdef char input_output_types[2]\n",
    "cdef void *elementwise_funcs[1]\n",
    "\n",
    "loop_func[0] = np.PyUFunc_d_d # generic function to implement looping\n",
    "\n",
    "input_output_types[0] = np.NPY_DOUBLE\n",
    "input_output_types[1] = np.NPY_DOUBLE\n",
    "\n",
    "\n",
    "elementwise_funcs[0] = <void*>logit_double\n",
    "\n",
    "logit = np.PyUFunc_FromFuncAndData(\n",
    "    loop_func,\n",
    "    elementwise_funcs,\n",
    "    input_output_types,\n",
    "    1, # number of supported input types\n",
    "    1, # number of input args\n",
    "    1, # number of output args\n",
    "    0, # `identity` element, never mind this\n",
    "    \"logit\", # function name\n",
    "    \"computes logit\", # docstring\n",
    "    0 # unused\n",
    "    )\n"
   ]
  },
  {
   "cell_type": "code",
   "execution_count": 23,
   "metadata": {
    "collapsed": false
   },
   "outputs": [
    {
     "data": {
      "text/plain": [
       "array([ 2.19722458, -0.84729786])"
      ]
     },
     "execution_count": 23,
     "metadata": {},
     "output_type": "execute_result"
    }
   ],
   "source": [
    "import numpy as np\n",
    "a = np.array([0.9, 0.3], dtype=np.double)\n",
    "logit(a)"
   ]
  },
  {
   "cell_type": "code",
   "execution_count": null,
   "metadata": {
    "collapsed": true
   },
   "outputs": [],
   "source": []
  }
 ],
 "metadata": {
  "kernelspec": {
   "display_name": "Python 3",
   "language": "python",
   "name": "python3"
  },
  "language_info": {
   "codemirror_mode": {
    "name": "ipython",
    "version": 3
   },
   "file_extension": ".py",
   "mimetype": "text/x-python",
   "name": "python",
   "nbconvert_exporter": "python",
   "pygments_lexer": "ipython3",
   "version": "3.5.2"
  }
 },
 "nbformat": 4,
 "nbformat_minor": 0
}
