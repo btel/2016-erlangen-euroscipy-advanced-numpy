{
 "cells": [
  {
   "cell_type": "markdown",
   "metadata": {},
   "source": [
    "# 1. Broadcasting"
   ]
  },
  {
   "cell_type": "markdown",
   "metadata": {},
   "source": [
    "##  Exercise: Route 66\n",
    "\n",
    "*Adapted from [Scipy Lectures](http://www.scipy-lectures.org/intro/numpy/index.html) by Emmanuelle Gouillart, Didrik Pinte, Gaël Varoquaux, and Pauli Virtanen*\n",
    "\n",
    "Given the mileposts construct an array of distances (in miles) between cities of Route 66: Chicago, Springfield, Saint-Louis, Tulsa, Oklahoma City, Amarillo, Santa Fe, Albuquerque, Flagstaff and Los Angeles.\n",
    "\n",
    "```\n",
    "mileposts = np.array([[0, 198, 303, 736, 871, 1175, 1475, 1544, 1913, 2448]])\n",
    "```\n",
    "![Distances on Route 66](route66.png)"
   ]
  },
  {
   "cell_type": "code",
   "execution_count": null,
   "metadata": {
    "collapsed": false
   },
   "outputs": [],
   "source": [
    "import numpy as np\n",
    "mileposts = np.array([[0, 198, 303, 736, 871, 1175, 1475, 1544, 1913, 2448]])\n",
    "mileposts - mileposts.T"
   ]
  },
  {
   "cell_type": "markdown",
   "metadata": {},
   "source": [
    "## Exercise: `np.newaxis`\n",
    "Insert a single `np.newaxis` so that this code works:\n",
    "\n",
    "\n",
    "```python\n",
    "x = np.arange(8).reshape(4, 2)\n",
    "y = np.arange(4)\n",
    "x + y\n",
    "```"
   ]
  },
  {
   "cell_type": "code",
   "execution_count": null,
   "metadata": {
    "collapsed": false
   },
   "outputs": [],
   "source": [
    "x = np.arange(8).reshape(4, 2)\n",
    "y = np.arange(4)\n",
    "print(x.shape)\n",
    "print(y.shape)\n",
    "print(x + y[:, np.newaxis])"
   ]
  },
  {
   "cell_type": "markdown",
   "metadata": {},
   "source": [
    "## Exercise: Normalising data\n",
    "\n",
    "Given the following array:\n",
    "\n",
    "```\n",
    "a = np.array([[2, 3, 1], [4, 1, 1]])\n",
    "```\n",
    "\n",
    "For each column of `a` subtract mean across rows. Next, from each row subtract its mean across columns."
   ]
  },
  {
   "cell_type": "code",
   "execution_count": null,
   "metadata": {
    "collapsed": false
   },
   "outputs": [],
   "source": [
    "import numpy as np\n",
    "\n",
    "a = np.array([[2, 3, 1], [4, 1, 1]])\n",
    "print(a-a.mean(0))\n"
   ]
  },
  {
   "cell_type": "code",
   "execution_count": null,
   "metadata": {
    "collapsed": false
   },
   "outputs": [],
   "source": [
    "print(a-a.mean(1)[:, np.newaxis])"
   ]
  },
  {
   "cell_type": "markdown",
   "metadata": {},
   "source": [
    "# 2. Memory layout"
   ]
  },
  {
   "cell_type": "markdown",
   "metadata": {},
   "source": [
    "## Exercise: Broadcasting revisited\n",
    "\n",
    "Explain how broadcasting works internally using the example below. What will be the `shape` and `strides` of `x` and `y` after broadcasting. Test it using `np.broadcast_arrays` in the following example and look at `strides` and `shape` properties of both arrays.\n",
    "\n",
    "```python\n",
    "x = np.random.rand(5, 10)\n",
    "y = np.random.rand(10)\n",
    "z = x + y\n",
    "\n",
    "xb, yb = np.broadcast_arrays(x, y)\n",
    "```"
   ]
  },
  {
   "cell_type": "code",
   "execution_count": null,
   "metadata": {
    "collapsed": false
   },
   "outputs": [],
   "source": [
    "x = np.random.rand(5, 10)\n",
    "y = np.random.rand(10)\n",
    "z = x + y\n",
    "\n",
    "xb, yb = np.broadcast_arrays(x, y)\n",
    "print(\"Before broadcasting:\")\n",
    "print(\"  Shape:\", y.shape, \"Strides:\", y.strides)\n",
    "xb, yb = np.broadcast_arrays(x, y)\n",
    "print(\"After broadcasting:\")\n",
    "print(\"  Shape:\", yb.shape, \"Strides:\", yb.strides)"
   ]
  },
  {
   "cell_type": "markdown",
   "metadata": {},
   "source": [
    "## Exercise: Sliding window\n",
    "\n",
    "*Modified Exercise by Stéfan van der Walt and Juan Nunez-Iglesias*\n",
    "\n",
    "Use `as_strided` to produce a sliding-window view of a 1D array.\n",
    "\n",
    "```python\n",
    "def sliding_window(arr, size=2):\n",
    "    \"\"\"Produce an array of sliding window views of `arr`\n",
    "    \n",
    "    Parameters\n",
    "    ----------\n",
    "    arr : 1D array, shape (N,)\n",
    "        The input array.\n",
    "    size : int, optional\n",
    "        The size of the sliding window.\n",
    "        \n",
    "    Returns\n",
    "    -------\n",
    "    arr_slide : 2D array, shape (N - size + 1, size)\n",
    "        The sliding windows of size `size` of `arr`.\n",
    "        \n",
    "    Examples\n",
    "    --------\n",
    "    >>> a = np.array([0, 1, 2, 3])\n",
    "    >>> sliding_window(a, 2)\n",
    "    array([[0, 1],\n",
    "           [1, 2],\n",
    "           [2, 3]])\n",
    "    \"\"\"\n",
    "    return arr  # fix this\n",
    "```"
   ]
  },
  {
   "cell_type": "code",
   "execution_count": null,
   "metadata": {
    "collapsed": false
   },
   "outputs": [],
   "source": [
    "def sliding_window(arr, size=2):\n",
    "    \"\"\"Produce an array of sliding window views of `arr`\n",
    "\n",
    "    Parameters\n",
    "    ----------\n",
    "    arr : 1D array, shape (N,)\n",
    "        The input array.\n",
    "    size : int, optional\n",
    "        The size of the sliding window.\n",
    "\n",
    "    Returns\n",
    "    -------\n",
    "    arr_slide : 2D array, shape (N - size + 1, size)\n",
    "        The sliding windows of size `size` of `arr`.\n",
    "\n",
    "    Examples\n",
    "    --------\n",
    "    >>> a = np.array([0, 1, 2, 3])\n",
    "    >>> sliding_window(a, 2)\n",
    "    array([[0, 1],\n",
    "           [1, 2],\n",
    "           [2, 3]])\n",
    "    \"\"\"\n",
    "    assert arr.ndim == 1\n",
    "    N = len(arr)\n",
    "    new_shape = (N - size + 1, size)\n",
    "    new_strides = (arr.itemsize, arr.itemsize)\n",
    "    strided_arr = np.lib.stride_tricks.as_strided(arr,\n",
    "                                                  shape=new_shape,\n",
    "                                                  strides=new_strides)\n",
    "    return strided_arr  # fix this\n",
    "\n",
    "a = np.array([0, 1, 2, 3])\n",
    "sliding_window(a, 2)"
   ]
  },
  {
   "cell_type": "markdown",
   "metadata": {},
   "source": [
    "## Exercise: Fastest changing index \n",
    " \n",
    "Compare the time of summing over rows and columns of an array `A = np.random.rand(3000, 3000)`. Next, try the same with array with Fortran order. How would you explain the differences? (*Hint*: To measure evaluation time you can use `%timeit` of ipython)"
   ]
  },
  {
   "cell_type": "code",
   "execution_count": null,
   "metadata": {
    "collapsed": false
   },
   "outputs": [],
   "source": [
    "A = np.random.rand(3000, 3000)\n",
    "%timeit A.sum(0)\n",
    "%timeit A.sum(1)"
   ]
  },
  {
   "cell_type": "code",
   "execution_count": null,
   "metadata": {
    "collapsed": false
   },
   "outputs": [],
   "source": [
    "A_fortran = np.array(A, order='F')\n",
    "%timeit A_fortran.sum(0)\n",
    "%timeit A_fortran.sum(1)"
   ]
  },
  {
   "cell_type": "markdown",
   "metadata": {},
   "source": [
    "# 3. dtypes and structured array"
   ]
  },
  {
   "cell_type": "markdown",
   "metadata": {},
   "source": [
    "## Exercise: Integer or real number?\n",
    "\n",
    "Construct the array \n",
    "```python\n",
    "x = np.array([0, 1, 2, 255], dtype=np.uint8)\n",
    "```\n",
    "\n",
    "Can\n",
    "you explain the difference obtained by `x + 1` and `x.astype(int) + 1`?"
   ]
  },
  {
   "cell_type": "code",
   "execution_count": null,
   "metadata": {
    "collapsed": false
   },
   "outputs": [],
   "source": [
    "x = np.array([0, 1, 2, 255], dtype=np.uint8)\n",
    "print(x + 1)\n",
    "print(x.astype(int) + 1)"
   ]
  },
  {
   "cell_type": "markdown",
   "metadata": {
    "collapsed": false
   },
   "source": [
    "### Exercise: Structured data types\n",
    "\n",
    "*This exercise was proposed by Stéfan van der Walt (https://python.g-node.org/python-summerschool-2014/_media/numpy_advanced.tar.bz2)*\n",
    "\n",
    "Design a data-type for storing the following record:\n",
    "\n",
    " - Timestamp in nanoseconds (a 64-bit unsigned integer)\n",
    " - Position (x- and y-coordinates, stored as floating point numbers)\n",
    "\n",
    "Use it to represent the following data:\n",
    "\n",
    "```\n",
    "dt = np.dtype(<your code here>)\n",
    "x = np.array([(100, (0, 0.5)),\n",
    "              (200, (0, 10.3)),\n",
    "              (300, (5.5, 15.1))], dtype=dt)\n",
    "```\n",
    "\n",
    "Have a look at the ``np.dtype`` docstring if you need help.\n",
    "After constructing ``x``, try to print all the ``x`` values for which timestamp\n",
    "is greater than 100 (hint: something of the form ``y[y > 100]``)."
   ]
  },
  {
   "cell_type": "code",
   "execution_count": null,
   "metadata": {
    "collapsed": false
   },
   "outputs": [],
   "source": [
    "dt = np.dtype([('timestamp', np.uint64), \n",
    "               ('position', [('x', np.float),\n",
    "                             ('y', np.float)])])\n",
    "x = np.array([(100, (0, 0.5)),\n",
    "              (200, (0, 10.3)),\n",
    "              (300, (5.5, 15.1))], dtype=dt)\n",
    "print(x[x['timestamp'] > 100])"
   ]
  },
  {
   "cell_type": "markdown",
   "metadata": {},
   "source": [
    "### Exercise: Structured file I/O\n",
    "\n",
    "*Modified from exercise by Stéfan van der Walt (https://python.g-node.org/python-summerschool-2014/_media/numpy_advanced.tar.bz2)*\n",
    "\n",
    "Given the ``data.txt`` file with the following content:"
   ]
  },
  {
   "cell_type": "code",
   "execution_count": null,
   "metadata": {
    "collapsed": false
   },
   "outputs": [],
   "source": [
    "%%file data.txt\n",
    "#rank         lemma (10 letters max)      frequency       dispersion\n",
    "21             they                        1865844         0.96\n",
    "42             her                         969591          0.91\n",
    "49             as                          829018          0.95\n",
    "7              to                          6332195         0.98\n",
    "63             take                        670745          0.97\n",
    "14             you                         3085642         0.92\n",
    "35             go                          1151045         0.93\n",
    "56             think                       772787          0.91\n",
    "28             not                         1638883         0.98"
   ]
  },
  {
   "cell_type": "markdown",
   "metadata": {},
   "source": [
    "Design a suitable structured data type, then load the data from the text\n",
    "file using ``np.loadtxt``.  Here's a skeleton to start with:\n",
    "\n",
    "```python\n",
    "import numpy as np\n",
    "data = np.loadtxt('data.txt', dtype=...)  # Modify this line\n",
    "```\n",
    "\n",
    "Examine the data you got:\n",
    " - Extract words only\n",
    " - Extract the 3rd row\n",
    " - Print all words with ``rank < 30``\n",
    " - Sort the data according to frequency (see np.sort)."
   ]
  },
  {
   "cell_type": "code",
   "execution_count": null,
   "metadata": {
    "collapsed": false
   },
   "outputs": [],
   "source": [
    "data = np.loadtxt('data.txt', dtype=[('rank', np.int),\n",
    "                                     ('lemma', 'S10'),\n",
    "                                     ('frequency', np.int),\n",
    "                                     ('dispersion', np.float)])"
   ]
  },
  {
   "cell_type": "code",
   "execution_count": null,
   "metadata": {
    "collapsed": false
   },
   "outputs": [],
   "source": [
    "data['lemma']\n",
    "data[3]\n",
    "data[data['rank'] < 30]\n",
    "np.sort(data, order='frequency')"
   ]
  },
  {
   "cell_type": "markdown",
   "metadata": {},
   "source": [
    "# 4. `xarray`"
   ]
  },
  {
   "cell_type": "markdown",
   "metadata": {},
   "source": [
    "## Exercise\n",
    "\n",
    "These two arrays contain average monthly temperatures (in Celsius degrees) in Erlangen and Paris:\n",
    "\n",
    "```\n",
    "erlangen = [-0.5, 0.7, 4.4, 8.5, 13.3, 16.7, 18.2, 17.5, 13.7, 8.9, 4.0, 0.9]\n",
    "paris = [3.3, 4.2, 7.8, 10.8, 14.3, 17.5, 19.4, 19.1, 16.4, 11.6, 7.2, 4.2]\n",
    "```\n",
    "\n",
    "Design a `DataArray` for storing these data. Calculate average annual temperature per location."
   ]
  },
  {
   "cell_type": "code",
   "execution_count": null,
   "metadata": {
    "collapsed": false
   },
   "outputs": [],
   "source": [
    "import xarray as xr\n",
    "import numpy as np\n",
    "erlangen = [-0.5, 0.7, 4.4, 8.5, 13.3, 16.7, 18.2, 17.5, 13.7, 8.9, 4.0, 0.9]\n",
    "paris = [3.3, 4.2, 7.8, 10.8, 14.3, 17.5, 19.4, 19.1, 16.4, 11.6, 7.2, 4.2]\n",
    "\n",
    "months = np.arange(12) + 1\n",
    "temperature = xr.DataArray([erlangen, paris], [('city', ['erlangen', 'paris']),\n",
    "                                               ('month', months)])\n",
    "temperature.mean('month')"
   ]
  },
  {
   "cell_type": "markdown",
   "metadata": {},
   "source": [
    "## Exercise\n",
    "\n",
    "*Inspired by data science [challenge](http://www.ramp.studio/events/drug_spectra) by C. Marini et al*\n",
    "\n",
    "A researcher measured a [Raman spectrum](https://en.wikipedia.org/wiki/Raman_spectroscopy) of an unknown sample. Now he wants to determine the substance and its concentration. He has calibration data with Raman spectra of four different compounds at three different concentrations. Find the calibration compound and concentration with the Raman spectrum most similar to the sample. You may choose the criterion (such as mean square error or max deviation).\n",
    "\n",
    "```python\n",
    "import pandas as pd\n",
    "\n",
    "# import calibration data from a file\n",
    "df = pd.DataFrame.from_csv('raman_data.csv', index_col=[0, 1, 2])\n",
    "calibration = xr.DataArray.from_series(df['Raman'])\n",
    "\n",
    "sample = xr.DataArray([[0, 10]], [('sample', ['X1042']),\n",
    "                                  ('wavelength', [100, 300])])\n",
    "```\n",
    "\n",
    "**Hint**: To find the calibration sample with minimum error, you may convert the DataArray to pandas:\n",
    "\n",
    "```python\n",
    "err.to_series().argmin()\n",
    "```"
   ]
  },
  {
   "cell_type": "code",
   "execution_count": null,
   "metadata": {
    "collapsed": false
   },
   "outputs": [],
   "source": [
    "# Code used to generate the calibration data\n",
    "import xarray as xr\n",
    "import numpy as np\n",
    "\n",
    "spectra = np.array([[0, 1, 0], [1, 0, 0], [0, 0, 1], [0, 1, 1]])\n",
    "concentrations = np.array([1., 10., 100.])\n",
    "data = spectra * concentrations[:, None, None]\n",
    "dataarray = xr.DataArray(data, [\n",
    "                               ('concentration', [1, 2, 5]),\n",
    "                               ('compound', ['A', 'B', 'C', 'D']),\n",
    "                               ('wavelength', [100, 200, 300])\n",
    "                               ],\n",
    "                              name='Raman')\n",
    "\n",
    "dataarray.to_dataframe().to_csv('raman_data.csv')"
   ]
  },
  {
   "cell_type": "code",
   "execution_count": null,
   "metadata": {
    "collapsed": false
   },
   "outputs": [],
   "source": [
    "# Solution \n",
    "\n",
    "import pandas as pd\n",
    "df = pd.DataFrame.from_csv('raman_data.csv', index_col=[0, 1, 2])\n",
    "calibration = xr.DataArray.from_series(df['Raman'])\n",
    "\n",
    "sample = xr.DataArray([[0, 10]], [('sample', ['X1042']),\n",
    "                                  ('wavelength', [100, 300])])\n",
    "\n",
    "err = ((calibration - sample)**2).sum('wavelength')\n",
    "err.to_series().argmin()"
   ]
  },
  {
   "cell_type": "markdown",
   "metadata": {},
   "source": [
    "# 5. Array interface"
   ]
  },
  {
   "cell_type": "markdown",
   "metadata": {},
   "source": [
    "## Exercise\n",
    "\n",
    "*Original exercise by Stefan van der Walt and Juan Nunez-Iglesias. Modified by Bartosz Telenczuk.*\n",
    " \n",
    "An author of a foreign package (included with the exercises as\n",
    "``mutable_str.py``) provides a string class that\n",
    "allocates its own memory:\n",
    "\n",
    "```ipython\n",
    "In [1]: from mutable_str import MutableString\n",
    "In [2]: s = MutableString('abcde')\n",
    "In [3]: print s\n",
    "abcde\n",
    "```\n",
    "\n",
    "You'd like to view these mutable (*mutable* means the ability to modify in place)\n",
    "strings as ndarrays, in order to manipulate the underlying memory.\n",
    "\n",
    "Add an `__array_interface__` dictionary attribute to s, then convert s to an\n",
    "ndarray. Numerically add \"2\" to the array (use the in-place operator ``+=``).\n",
    "\n",
    "Then print the original string to ensure that its value was modified.\n",
    "\n",
    "> **Hint:** Documentation for NumPy's ``__array_interface__``\n",
    "  may be found [in the online docs](http://docs.scipy.org/doc/numpy/reference/arrays.interface.html).\n",
    "\n",
    "Here's a skeleton outline:\n",
    "\n",
    "```python\n",
    "import numpy as np\n",
    "from mutable_str import MutableString\n",
    "\n",
    "s = MutableString('abcde')\n",
    "\n",
    "# --- EDIT THIS SECTION ---\n",
    "\n",
    "# Create an array interface to this foreign object\n",
    "s.__array_interface__ = {'data' : 'FIXME' # tuple (ptr, is read_only?)\n",
    "                         'shape' : 'FIXME',\n",
    "                         'typestr' : 'FIXME', # typecode unsigned character\n",
    "                         }\n",
    "\n",
    "# --- EDIT THIS SECTION ---\n",
    "\n",
    "print('String before converting to array:', s)\n",
    "sa = np.asarray(s)\n",
    "\n",
    "print('String after converting to array:', sa)\n",
    "\n",
    "sa += 2\n",
    "print('String after adding \"2\" to array:', s)\n",
    "```"
   ]
  },
  {
   "cell_type": "code",
   "execution_count": null,
   "metadata": {
    "collapsed": false
   },
   "outputs": [],
   "source": [
    "import numpy as np\n",
    "from mutable_str import MutableString\n",
    "\n",
    "s = MutableString('abcde')\n",
    "\n",
    "# --- EDIT THIS SECTION ---\n",
    "\n",
    "# Create an array interface to this foreign object\n",
    "s.__array_interface__ = {'data' : (s.data_ptr, False), # (ptr, is read_only?)\n",
    "                         'shape' : (len(s),),\n",
    "                         'typestr' : '|u1', # typecode unsigned character\n",
    "                         }\n",
    "\n",
    "# --- EDIT THIS SECTION ---\n",
    "\n",
    "print('String before converting to array:', s)\n",
    "sa = np.asarray(s)\n",
    "\n",
    "print('String after converting to array:', sa)\n",
    "\n",
    "sa += 2\n",
    "print('String after adding \"2\" to array:', s)"
   ]
  },
  {
   "cell_type": "markdown",
   "metadata": {},
   "source": [
    "# 6. Ufuncs"
   ]
  },
  {
   "cell_type": "markdown",
   "metadata": {},
   "source": [
    "### Exercise\n",
    "\n",
    "*Exercise from [NumPy 100 exercises](https://github.com/rougier/numpy-100/blob/master/100%20Numpy%20exercises.md)*:\n",
    "\n",
    "Compute `((A+B)*(-A/2))` in place (without a copy):\n",
    "\n",
    "```\n",
    "A = np.ones(3)*1\n",
    "B = np.ones(3)*2\n",
    "```\n",
    "\n",
    "**Hint**: Use `out` argument of ufuncs."
   ]
  },
  {
   "cell_type": "code",
   "execution_count": null,
   "metadata": {
    "collapsed": false
   },
   "outputs": [],
   "source": [
    "A = np.ones(3)*1\n",
    "B = np.ones(3)*2\n",
    "\n",
    "np.add(A, B, out=B)\n",
    "np.divide(A,2,out=A)\n",
    "np.negative(A,out=A)\n",
    "np.multiply(A,B,out=A)"
   ]
  },
  {
   "cell_type": "markdown",
   "metadata": {},
   "source": [
    "### Exercise  (`np.einsum`)\n",
    "\n",
    "*Exercise from [100 numpy exercises](https://github.com/rougier/numpy-100)*\n",
    "\n",
    "Use `np.einsum` to calculate the **diagonal of a dot product** of two matrices (`np.diag(np.dot(A, B))`).\n",
    "\n",
    "```\n",
    "A = np.arange(6).reshape(3, 2)\n",
    "B = np.ones((2, 3))\n",
    "np.einsum('your signature goes here', A, B)\n",
    "```\n",
    "\n",
    "Then, test your solution on stacked arrays:\n",
    "\n",
    "```\n",
    "A = np.arange(12).reshape(2, 3, 2)\n",
    "B = np.ones((2, 3))\n",
    "```"
   ]
  },
  {
   "cell_type": "code",
   "execution_count": null,
   "metadata": {
    "collapsed": false
   },
   "outputs": [],
   "source": [
    "A = np.arange(12).reshape(2, 3, 2)\n",
    "B = np.ones((2, 3))\n",
    "np.einsum('...ij,...ji->...i', A, B)"
   ]
  },
  {
   "cell_type": "markdown",
   "metadata": {},
   "source": [
    "\n",
    "# 7. Extending NumPy"
   ]
  },
  {
   "cell_type": "markdown",
   "metadata": {},
   "source": [
    "### Exercise\n",
    "\n",
    "Take the following function calculating logit and turn it into a ufunc using the above example.\n",
    "\n",
    "```cython\n",
    "\n",
    "from libc.math cimport log\n",
    "    \n",
    "import cython\n",
    "\n",
    "@cython.cdivision(True)\n",
    "cdef double logit_double(double p) nogil:\n",
    "    p = p/(1-p);\n",
    "    p = log(p);\n",
    "    return p\n",
    "```"
   ]
  },
  {
   "cell_type": "code",
   "execution_count": null,
   "metadata": {
    "collapsed": false
   },
   "outputs": [],
   "source": [
    "%load_ext cython"
   ]
  },
  {
   "cell_type": "code",
   "execution_count": null,
   "metadata": {
    "collapsed": false
   },
   "outputs": [],
   "source": [
    "%%cython\n",
    "\n",
    "# The elementwise function\n",
    "\n",
    "from libc.math cimport log\n",
    "    \n",
    "import cython\n",
    "\n",
    "@cython.cdivision(True)\n",
    "cdef double logit_double(double p) nogil:\n",
    "    p = p/(1-p);\n",
    "    p = log(p);\n",
    "    return p\n",
    "\n",
    "\n",
    "# Required module initialization\n",
    "# ------------------------------\n",
    "\n",
    "cimport numpy as np\n",
    "np.import_array()\n",
    "np.import_ufunc()\n",
    "\n",
    "# The actual ufunc declaration\n",
    "# ----------------------------\n",
    "\n",
    "cdef np.PyUFuncGenericFunction loop_func[1]\n",
    "cdef char input_output_types[2]\n",
    "cdef void *elementwise_funcs[1]\n",
    "\n",
    "loop_func[0] = np.PyUFunc_d_d # generic function to implement looping\n",
    "\n",
    "input_output_types[0] = np.NPY_DOUBLE\n",
    "input_output_types[1] = np.NPY_DOUBLE\n",
    "\n",
    "\n",
    "elementwise_funcs[0] = <void*>logit_double\n",
    "\n",
    "logit = np.PyUFunc_FromFuncAndData(\n",
    "    loop_func,\n",
    "    elementwise_funcs,\n",
    "    input_output_types,\n",
    "    1, # number of supported input types\n",
    "    1, # number of input args\n",
    "    1, # number of output args\n",
    "    0, # `identity` element, never mind this\n",
    "    \"logit\", # function name\n",
    "    \"computes logit\", # docstring\n",
    "    0 # unused\n",
    "    )\n"
   ]
  },
  {
   "cell_type": "code",
   "execution_count": null,
   "metadata": {
    "collapsed": false
   },
   "outputs": [],
   "source": [
    "import numpy as np\n",
    "a = np.array([0.9, 0.3], dtype=np.double)\n",
    "logit(a)"
   ]
  },
  {
   "cell_type": "code",
   "execution_count": null,
   "metadata": {
    "collapsed": true
   },
   "outputs": [],
   "source": []
  }
 ],
 "metadata": {
  "kernelspec": {
   "display_name": "Python 3",
   "language": "python",
   "name": "python3"
  },
  "language_info": {
   "codemirror_mode": {
    "name": "ipython",
    "version": 3
   },
   "file_extension": ".py",
   "mimetype": "text/x-python",
   "name": "python",
   "nbconvert_exporter": "python",
   "pygments_lexer": "ipython3",
   "version": "3.5.2"
  }
 },
 "nbformat": 4,
 "nbformat_minor": 0
}
