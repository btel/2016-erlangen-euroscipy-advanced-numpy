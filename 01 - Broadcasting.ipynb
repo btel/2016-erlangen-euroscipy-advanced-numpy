{
 "cells": [
  {
   "cell_type": "markdown",
   "metadata": {},
   "source": [
    "# Broadcasting\n",
    "\n",
    "> ## Learning Objectives\n",
    ">\n",
    "> After the lesson learner:\n",
    ">\n",
    "> * Can predict the result of additions of matrices and row or column vectors.\n",
    "> * Can explain why broadcasting is better than using for loops.\n",
    "> * Understands the rules of broadcasting and can predict the shape of broadcasted arrays.\n",
    "> * Knows how to control broadcasting using `np.newaxis` object.\n",
    "\n",
    "It’s possible to do operations on arrays of different sizes. In some case NumPy can\n",
    "transform these arrays automatically so that they all have the same size: this conversion is\n",
    "called **broadcasting**.\n",
    "\n",
    "![numpy broadcasting in 2D. Copyright: Emmanuelle Gouillart, Didrik Pinte, Gaël Varoquaux, and Pauli Virtanen](numpy_broadcasting.png)\n",
    "\n",
    "Let's try to reproduce the above diagram. First, we create two two-dimensional arrays:"
   ]
  },
  {
   "cell_type": "code",
   "execution_count": 1,
   "metadata": {
    "collapsed": false
   },
   "outputs": [
    {
     "data": {
      "text/plain": [
       "array([[ 0,  0,  0],\n",
       "       [10, 10, 10],\n",
       "       [20, 20, 20],\n",
       "       [30, 30, 30]])"
      ]
     },
     "execution_count": 1,
     "metadata": {},
     "output_type": "execute_result"
    }
   ],
   "source": [
    "import numpy as np\n",
    "a = np.arange(4) * 10\n",
    "a2 = np.tile(a, (3, 1)).T\n",
    "a2"
   ]
  },
  {
   "cell_type": "markdown",
   "metadata": {},
   "source": [
    "We do the same with the second array, but we need also to transpose (exchange columns with rows) the resulting array:"
   ]
  },
  {
   "cell_type": "code",
   "execution_count": 3,
   "metadata": {
    "collapsed": false
   },
   "outputs": [
    {
     "data": {
      "text/plain": [
       "array([[0, 1, 2],\n",
       "       [0, 1, 2],\n",
       "       [0, 1, 2],\n",
       "       [0, 1, 2]])"
      ]
     },
     "execution_count": 3,
     "metadata": {},
     "output_type": "execute_result"
    }
   ],
   "source": [
    "b = np.arange(3)\n",
    "b2 = np.tile(b, (4, 1))\n",
    "b2"
   ]
  },
  {
   "cell_type": "markdown",
   "metadata": {},
   "source": [
    "Note that the `np.tile` function creates new arrays and copies the data. \n",
    "\n",
    "We can now add the arrays element-wise:"
   ]
  },
  {
   "cell_type": "code",
   "execution_count": 4,
   "metadata": {
    "collapsed": false
   },
   "outputs": [
    {
     "data": {
      "text/plain": [
       "array([[ 0,  1,  2],\n",
       "       [10, 11, 12],\n",
       "       [20, 21, 22],\n",
       "       [30, 31, 32]])"
      ]
     },
     "execution_count": 4,
     "metadata": {},
     "output_type": "execute_result"
    }
   ],
   "source": [
    "a2 + b2"
   ]
  },
  {
   "cell_type": "markdown",
   "metadata": {},
   "source": [
    "In the second example we add a one-dimensional array to a two-dimensional array. NumPy will automatically \"tile\" the 1D array along the missing direction:"
   ]
  },
  {
   "cell_type": "code",
   "execution_count": 5,
   "metadata": {
    "collapsed": false
   },
   "outputs": [
    {
     "data": {
      "text/plain": [
       "array([[ 0,  1,  2],\n",
       "       [10, 11, 12],\n",
       "       [20, 21, 22],\n",
       "       [30, 31, 32]])"
      ]
     },
     "execution_count": 5,
     "metadata": {},
     "output_type": "execute_result"
    }
   ],
   "source": [
    "b = np.arange(3)\n",
    "a2 + b"
   ]
  },
  {
   "cell_type": "markdown",
   "metadata": {},
   "source": [
    "However, in this case no copy of `b` array is involved. NumPy will instead use the same data in `b` for each row of `a` -- we will cover the mechanism behind it at the end of the lesson. b"
   ]
  },
  {
   "cell_type": "markdown",
   "metadata": {},
   "source": [
    "In the third example we add a single column with a single vector. To obtain a column array from a 1D array we need to convert it to 2D array of four rows and one column. In NumPy we can add singular dimensions (dimensions of size 1) by a special object `np.newaxis`:"
   ]
  },
  {
   "cell_type": "code",
   "execution_count": 6,
   "metadata": {
    "collapsed": false
   },
   "outputs": [
    {
     "data": {
      "text/plain": [
       "(4, 1)"
      ]
     },
     "execution_count": 6,
     "metadata": {},
     "output_type": "execute_result"
    }
   ],
   "source": [
    "a_column = a[:, np.newaxis]\n",
    "a_column.shape"
   ]
  },
  {
   "cell_type": "code",
   "execution_count": 7,
   "metadata": {
    "collapsed": false
   },
   "outputs": [
    {
     "data": {
      "text/plain": [
       "array([[ 0],\n",
       "       [10],\n",
       "       [20],\n",
       "       [30]])"
      ]
     },
     "execution_count": 7,
     "metadata": {},
     "output_type": "execute_result"
    }
   ],
   "source": [
    "a_column"
   ]
  },
  {
   "cell_type": "markdown",
   "metadata": {},
   "source": [
    "We can add a column vector and a 1D array:"
   ]
  },
  {
   "cell_type": "code",
   "execution_count": 8,
   "metadata": {
    "collapsed": false
   },
   "outputs": [
    {
     "data": {
      "text/plain": [
       "array([[ 0,  1,  2],\n",
       "       [10, 11, 12],\n",
       "       [20, 21, 22],\n",
       "       [30, 31, 32]])"
      ]
     },
     "execution_count": 8,
     "metadata": {},
     "output_type": "execute_result"
    }
   ],
   "source": [
    "a_column + b"
   ]
  },
  {
   "cell_type": "markdown",
   "metadata": {},
   "source": [
    "This is the same as adding a column and  a row:"
   ]
  },
  {
   "cell_type": "code",
   "execution_count": 9,
   "metadata": {
    "collapsed": false
   },
   "outputs": [
    {
     "data": {
      "text/plain": [
       "array([[0, 1, 2]])"
      ]
     },
     "execution_count": 9,
     "metadata": {},
     "output_type": "execute_result"
    }
   ],
   "source": [
    "b_row = b[np.newaxis, :]\n",
    "b_row"
   ]
  },
  {
   "cell_type": "code",
   "execution_count": 10,
   "metadata": {
    "collapsed": false
   },
   "outputs": [
    {
     "data": {
      "text/plain": [
       "(1, 3)"
      ]
     },
     "execution_count": 10,
     "metadata": {},
     "output_type": "execute_result"
    }
   ],
   "source": [
    "b_row.shape"
   ]
  },
  {
   "cell_type": "code",
   "execution_count": 11,
   "metadata": {
    "collapsed": false
   },
   "outputs": [
    {
     "data": {
      "text/plain": [
       "array([[ 0,  1,  2],\n",
       "       [10, 11, 12],\n",
       "       [20, 21, 22],\n",
       "       [30, 31, 32]])"
      ]
     },
     "execution_count": 11,
     "metadata": {},
     "output_type": "execute_result"
    }
   ],
   "source": [
    "a_column + b_row"
   ]
  },
  {
   "cell_type": "markdown",
   "metadata": {},
   "source": [
    "> ## Exercise: Normalising data\n",
    "\n",
    "> Given the following array:\n",
    "\n",
    "> ```\n",
    "> a = np.random.rand(10, 100) \n",
    "> ```\n",
    "\n",
    "> For each column of `a` subtract its mean. Next, do the same with rows."
   ]
  },
  {
   "cell_type": "markdown",
   "metadata": {},
   "source": [
    "##  Exercise: Route 66\n",
    "\n",
    "*From [Scipy Lectures](http://www.scipy-lectures.org/intro/numpy/index.html) by Emmanuelle Gouillart, Didrik Pinte, Gaël Varoquaux, and Pauli Virtanen*\n",
    "\n",
    "Given the mileposts construct an array of distances (in miles) between cities of Route 66: Chicago, Springfield, Saint-Louis, Tulsa, Oklahoma City, Amarillo, Santa Fe, Albuquerque, Flagstaff and Los Angeles.\n",
    "\n",
    "```\n",
    "mileposts = np.array([0, 198, 303, 736, 871, 1175, 1475, 1544, 1913, 2448])\n",
    "```\n",
    "![Distances on Route 66](route66.png)"
   ]
  },
  {
   "cell_type": "markdown",
   "metadata": {},
   "source": [
    "## Broadcasting rules"
   ]
  },
  {
   "cell_type": "markdown",
   "metadata": {},
   "source": [
    "Broadcasting seems a bit magical, but it is actually quite natural to use it when we want to solve a problem whose output data is an array with more dimensions than input data. There a simple rule that allow to determine the validity of broadcasting and the shape of broadcasted arrays:\n",
    "\n",
    ">  In order to broadcast, the size of the trailing axes for both arrays in an operation must either be the same or one of them must be one. \n",
    "\n",
    "This does indeed work for the three addition from the figure\n",
    "\n",
    "```\n",
    "a:      4 x 3 \n",
    "b:      4 x 3\n",
    "result: 4 x 3\n",
    "\n",
    "a:      4 x 3\n",
    "b:          3\n",
    "result: 4 x 3\n",
    "\n",
    "a:      4 x 1\n",
    "b:          3\n",
    "result: 4 x 3\n",
    "```"
   ]
  },
  {
   "cell_type": "markdown",
   "metadata": {},
   "source": [
    "Lets look at another example:"
   ]
  },
  {
   "cell_type": "code",
   "execution_count": null,
   "metadata": {
    "collapsed": true
   },
   "outputs": [],
   "source": [
    "import matplotlib.pyplot as plt\n",
    "%matplotlib inline"
   ]
  },
  {
   "cell_type": "code",
   "execution_count": null,
   "metadata": {
    "collapsed": false
   },
   "outputs": [],
   "source": [
    "image = plt.imread('lena.jpg')\n",
    "plt.imshow(image)"
   ]
  },
  {
   "cell_type": "code",
   "execution_count": null,
   "metadata": {
    "collapsed": false
   },
   "outputs": [],
   "source": [
    "image.shape"
   ]
  },
  {
   "cell_type": "code",
   "execution_count": null,
   "metadata": {
    "collapsed": false
   },
   "outputs": [],
   "source": [
    "scale = np.array([1., 0.6, 0.6])\n",
    "scaled = scale * image\n",
    "\n",
    "plt.imshow(scaled.astype(np.uint8))"
   ]
  },
  {
   "cell_type": "code",
   "execution_count": null,
   "metadata": {
    "collapsed": false
   },
   "outputs": [],
   "source": [
    "scaled.shape"
   ]
  },
  {
   "cell_type": "markdown",
   "metadata": {},
   "source": [
    "```\n",
    "image  (3d array): 512 x 512 x 3\n",
    "scale  (1d array):             3\n",
    "scaled (3d array): 512 x 512 x 3\n",
    "```"
   ]
  },
  {
   "cell_type": "markdown",
   "metadata": {},
   "source": [
    "## Quiz\n",
    "\n",
    "What are the dimensions of `result` array?\n",
    "```\n",
    "A = np.random.rand(8, 1, 6, 1)\n",
    "B = np.random.rand(7, 1, 5)\n",
    "result = A + B\n",
    "```\n",
    "\n",
    "\n",
    "\n",
    "```\n",
    "A      (4d array):  8 x 1 x 6 x 1\n",
    "B      (3d array):      7 x 1 x 5\n",
    "Result (?  array):              ?\n",
    "```"
   ]
  },
  {
   "cell_type": "markdown",
   "metadata": {},
   "source": [
    "> ## Quiz: Broadcasting rules\n",
    "> \n",
    "> Given the arrays:\n",
    "> ```\n",
    "> X = np.random.rand(10,3)\n",
    "> Y = np.random.rand(3)\n",
    "> ```\n",
    "> \n",
    "> which of the following will *not* produce an error. What will be the shapes of the final broadcasted arrays?\n",
    "> \n",
    "> a) `X + Y`\n",
    "> \n",
    "> b) `X[np.newaxis, :] + Y`\n",
    "> \n",
    "> c) `X + Y[:, np.newaxis]`\n",
    "> \n",
    "> d) `X[:, np.newaxis] + Y`\n",
    "> \n",
    "> e) `X + Y[np.newaxis, :]`\n",
    ">\n",
    "> f) `X[:, np.newaxis, :] + Y`\n"
   ]
  },
  {
   "cell_type": "markdown",
   "metadata": {},
   "source": [
    "> ## Exercise: Three-dimensional broadcasting\n",
    ">\n",
    "> Below, produce the array containing the sum of every element in `x` with every element in `y`\n",
    ">\n",
    "> ```python\n",
    "> x = np.random.rand(3, 5)\n",
    "> y = np.random.randint(10, size=8)\n",
    "> z = x + y# FIX THIS\n",
    "> ```"
   ]
  },
  {
   "cell_type": "markdown",
   "metadata": {},
   "source": [
    "# Extra problems\n",
    "\n",
    "\n",
    "> ## Broadcasting indices\n",
    "\n",
    "> Predict and verify the shape of `y`:\n",
    "> \n",
    "> ```python\n",
    "> x = np.empty((10, 8, 6))\n",
    "> \n",
    "> idx0 = np.zeros((3, 8)).astype(int)\n",
    "> idx1 = np.zeros((3, 1)).astype(int)\n",
    "> idx2 = np.zeros((1, 1)).astype(int)\n",
    "> \n",
    "> y = x[idx0, idx1, idx2]\n",
    "> ```"
   ]
  },
  {
   "cell_type": "markdown",
   "metadata": {},
   "source": [
    "> ## Distances\n",
    "> \n",
    "> Given an array of latitudes and longitudes of major European capitals calculate pairwise distances between them. Use the approximate formula: \n",
    ">\n",
    "> $$D=6371.009\\sqrt{(\\Delta\\phi)^2 + (\\Delta\\lambda)^2}\\qquad \\text{(in kilometers)},$$\n",
    ">\n",
    "> where $\\Delta\\phi=\\phi_1-\\phi_2$ and $\\Delta\\lambda=\\lambda_1-\\lambda_2$ are the differences between the latitudes and longitude of two cities in radians. (*Hint*: To convert degrees to radians multiply them by $\\pi/180$).\n",
    "> ```\n",
    "> coords = np.array([\n",
    ">                   [ 23.71666667,  37.96666667], # Athens\n",
    ">                   [ 13.38333333,  52.51666667], # Berlin\n",
    ">                   [ -0.1275    ,  51.50722222], # London\n",
    ">                   [ -3.71666667,  40.38333333], # Madrid\n",
    ">                   [  2.3508    ,  48.8567    ], # Paris\n",
    ">                   [ 12.5       ,  41.9       ]  # Rome\n",
    "                    ]) \n",
    "> ```\n",
    "> When you are done you can compare the results with a more [precise formula](https://en.wikipedia.org/wiki/Geographical_distance#Spherical_Earth_projected_to_a_plane):\n",
    ">\n",
    "> $$D=6371.009\\sqrt{(\\Delta\\phi)^2 + (\\cos(\\phi_m)\\Delta\\lambda)^2}$$\n",
    ">\n",
    "> where $\\phi_m = (\\phi_1+\\phi_2) / 2$ is the mean latitude."
   ]
  },
  {
   "cell_type": "markdown",
   "metadata": {
    "collapsed": true
   },
   "source": [
    "> ## Exercise: Creating a two-dimensional grid\n",
    "> \n",
    "> What are the dimensionalities of `x`, `y` and `z` in the two cases:\n",
    ">\n",
    "> ```\n",
    "> x, y = np.mgrid[:10, :5]\n",
    "> z = x + y\n",
    "> ```\n",
    "> \n",
    "> and \n",
    "> \n",
    "> ```\n",
    "> x, y = np.ogrid[:10, :5]\n",
    "> z = x + y\n",
    "> ```\n",
    "> \n",
    "> What might be the advantage of using `np.ogrid` over `np.mgrid`?\n",
    "\n",
    "\n"
   ]
  },
  {
   "cell_type": "markdown",
   "metadata": {},
   "source": [
    "## Further reading\n",
    "\n",
    "* NumPy docs, http://docs.scipy.org/doc/numpy/user/basics.broadcasting.html"
   ]
  },
  {
   "cell_type": "code",
   "execution_count": null,
   "metadata": {
    "collapsed": true
   },
   "outputs": [],
   "source": []
  }
 ],
 "metadata": {
  "kernelspec": {
   "display_name": "Python 3",
   "language": "python",
   "name": "python3"
  },
  "language_info": {
   "codemirror_mode": {
    "name": "ipython",
    "version": 3
   },
   "file_extension": ".py",
   "mimetype": "text/x-python",
   "name": "python",
   "nbconvert_exporter": "python",
   "pygments_lexer": "ipython3",
   "version": "3.5.2"
  }
 },
 "nbformat": 4,
 "nbformat_minor": 0
}
