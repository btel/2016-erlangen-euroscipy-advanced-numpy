{
 "cells": [
  {
   "cell_type": "markdown",
   "metadata": {},
   "source": [
    "# Broadcasting\n",
    "\n",
    "It’s possible to do operations on arrays of different sizes. In some cases NumPy can\n",
    "transform these arrays automatically so that they behave like same-sized arrays. This conversion is\n",
    "called **broadcasting**.\n",
    "\n",
    "![numpy broadcasting in 2D. Copyright: Emmanuelle Gouillart, Didrik Pinte, Gaël Varoquaux, and Pauli Virtanen](numpy_broadcasting.png)"
   ]
  },
  {
   "cell_type": "code",
   "execution_count": null,
   "metadata": {
    "collapsed": false
   },
   "outputs": [],
   "source": [
    "import numpy as np\n",
    "a = np.array([[0, 10, 20, 30]])\n",
    "b = np.array([[0, 1, 2]])\n",
    "print(\"a:\", a)\n",
    "print(\"b:\", b)"
   ]
  },
  {
   "cell_type": "code",
   "execution_count": null,
   "metadata": {
    "collapsed": false
   },
   "outputs": [],
   "source": [
    "a.T"
   ]
  },
  {
   "cell_type": "code",
   "execution_count": null,
   "metadata": {
    "collapsed": false
   },
   "outputs": [],
   "source": [
    "a.T + b"
   ]
  },
  {
   "cell_type": "markdown",
   "metadata": {},
   "source": [
    "##  Exercise: Route 66\n",
    "\n",
    "*Adapted from [Scipy Lectures](http://www.scipy-lectures.org/intro/numpy/index.html) by Emmanuelle Gouillart, Didrik Pinte, Gaël Varoquaux, and Pauli Virtanen*\n",
    "\n",
    "Given the mileposts construct an array of distances (in miles) between cities of Route 66: Chicago, Springfield, Saint-Louis, Tulsa, Oklahoma City, Amarillo, Santa Fe, Albuquerque, Flagstaff and Los Angeles.\n",
    "\n",
    "```\n",
    "mileposts = np.array([[0, 198, 303, 736, 871, 1175, 1475, 1544, 1913, 2448][)\n",
    "```\n",
    "![Distances on Route 66](route66.png)"
   ]
  },
  {
   "cell_type": "markdown",
   "metadata": {},
   "source": [
    "## Broadcasting rules"
   ]
  },
  {
   "cell_type": "markdown",
   "metadata": {},
   "source": [
    "Broadcasting seems a bit magical, but it is actually quite natural to use it when we want to solve a problem whose output data is an array with more dimensions than input data. There a simple rule that allow to determine the validity of broadcasting and the shape of broadcasted arrays:\n",
    "\n",
    ">  In order to broadcast, the size of the trailing axes for both arrays in an operation must either be the same or one of them must be one. \n",
    "\n",
    "This does indeed work for the three additions from the first figure\n",
    "\n",
    "```\n",
    "a:      4 x 3     a:      4 x 3      a:      4 x 1\n",
    "b:      4 x 3     b:          3      b:          3\n",
    "result: 4 x 3     result: 4 x 3      result: 4 x 3\n",
    "```"
   ]
  },
  {
   "cell_type": "markdown",
   "metadata": {},
   "source": [
    "Lets look at another example:"
   ]
  },
  {
   "cell_type": "code",
   "execution_count": null,
   "metadata": {
    "collapsed": true
   },
   "outputs": [],
   "source": [
    "import matplotlib.pyplot as plt\n",
    "%matplotlib inline"
   ]
  },
  {
   "cell_type": "code",
   "execution_count": null,
   "metadata": {
    "collapsed": false
   },
   "outputs": [],
   "source": [
    "image = plt.imread('lena.jpg')\n",
    "plt.imshow(image)"
   ]
  },
  {
   "cell_type": "markdown",
   "metadata": {},
   "source": [
    "We want to add some red channel to the image:"
   ]
  },
  {
   "cell_type": "code",
   "execution_count": null,
   "metadata": {
    "collapsed": true
   },
   "outputs": [],
   "source": [
    "scale = np.array([1., 0.6, 0.6])"
   ]
  },
  {
   "cell_type": "code",
   "execution_count": null,
   "metadata": {
    "collapsed": false
   },
   "outputs": [],
   "source": [
    "print(image.shape)\n",
    "print(scale.shape)"
   ]
  },
  {
   "cell_type": "code",
   "execution_count": null,
   "metadata": {
    "collapsed": false
   },
   "outputs": [],
   "source": [
    "scaled = scale * image\n",
    "print(scaled.shape)"
   ]
  },
  {
   "cell_type": "code",
   "execution_count": null,
   "metadata": {
    "collapsed": false
   },
   "outputs": [],
   "source": [
    "plt.imshow(scaled.astype(np.uint8))"
   ]
  },
  {
   "cell_type": "markdown",
   "metadata": {},
   "source": [
    "```\n",
    "image  (3d array): 512 x 512 x 3\n",
    "scale  (1d array):             3\n",
    "scaled (3d array): 512 x 512 x 3\n",
    "```"
   ]
  },
  {
   "cell_type": "markdown",
   "metadata": {},
   "source": [
    "## Quiz\n",
    "\n",
    "What are the dimensions of `result` array?\n",
    "```\n",
    "A = np.random.rand(8, 1, 6, 1)\n",
    "B = np.random.rand(7, 1, 5)\n",
    "result = A + B\n",
    "```\n",
    "\n",
    "\n",
    "\n",
    "```\n",
    "A      (4d array):  8 x 1 x 6 x 1\n",
    "B      (3d array):      7 x 1 x 5\n",
    "Result (?  array):              ?\n",
    "```"
   ]
  },
  {
   "cell_type": "markdown",
   "metadata": {},
   "source": [
    "## `np.newaxis`\n",
    "\n",
    "You can control broadcasting by inserting singular dimensions with `np.newaxis`. For example, to convert 1-dimensional array to 2-dimensional:"
   ]
  },
  {
   "cell_type": "code",
   "execution_count": null,
   "metadata": {
    "collapsed": false
   },
   "outputs": [],
   "source": [
    "x = np.arange(3)\n",
    "x.shape"
   ]
  },
  {
   "cell_type": "code",
   "execution_count": null,
   "metadata": {
    "collapsed": false
   },
   "outputs": [],
   "source": [
    "x[:, np.newaxis].shape"
   ]
  },
  {
   "cell_type": "markdown",
   "metadata": {},
   "source": [
    "## Exercise: `np.newaxis`\n",
    "Insert a single `np.newaxis` so that this code works:\n",
    "\n",
    "\n",
    "```python\n",
    "x = np.arange(8).reshape(4, 2)\n",
    "y = np.arange(4)\n",
    "x + y\n",
    "```"
   ]
  },
  {
   "cell_type": "markdown",
   "metadata": {},
   "source": [
    "## Exercise: Normalising data\n",
    "\n",
    "Given the following array:\n",
    "\n",
    "```\n",
    "a = np.array([[2, 3, 1], [4, 1, 1]])\n",
    "```\n",
    "\n",
    "For each column of `a` subtract mean across rows. Next, from each row subtract its mean across columns."
   ]
  },
  {
   "cell_type": "markdown",
   "metadata": {},
   "source": [
    "## Quiz: Broadcasting rules\n",
    " \n",
    "Given the arrays:\n",
    "```\n",
    "X = np.random.rand(10,3)\n",
    "Y = np.random.rand(3)\n",
    "```\n",
    "\n",
    "which of the following will *not* produce an error. What will be the shapes of the final broadcasted arrays?\n",
    " \n",
    "a) `X + Y`\n",
    "\n",
    "b) `X[np.newaxis, :] + Y`\n",
    "\n",
    "c) `X + Y[:, np.newaxis]`\n",
    "\n",
    "d) `X[:, np.newaxis] + Y`\n",
    " \n",
    "e) `X + Y[np.newaxis, :]`\n",
    "\n",
    "f) `X[:, np.newaxis, :] + Y`\n"
   ]
  },
  {
   "cell_type": "markdown",
   "metadata": {},
   "source": [
    "# Extra problems\n",
    "\n",
    "\n",
    "> ## Broadcasting indices\n",
    "\n",
    "> Predict and verify the shape of `y`:\n",
    "> \n",
    "> ```python\n",
    "> x = np.empty((10, 8, 6))\n",
    "> \n",
    "> idx0 = np.zeros((3, 8)).astype(int)\n",
    "> idx1 = np.zeros((3, 1)).astype(int)\n",
    "> idx2 = np.zeros((1, 1)).astype(int)\n",
    "> \n",
    "> y = x[idx0, idx1, idx2]\n",
    "> ```"
   ]
  },
  {
   "cell_type": "markdown",
   "metadata": {},
   "source": [
    "> ## Distances\n",
    "> \n",
    "> Given an array of latitudes and longitudes of major European capitals calculate pairwise distances between them. Use the approximate formula: \n",
    ">\n",
    "> $$D=6371.009\\sqrt{(\\Delta\\phi)^2 + (\\Delta\\lambda)^2}\\qquad \\text{(in kilometers)},$$\n",
    ">\n",
    "> where $\\Delta\\phi=\\phi_1-\\phi_2$ and $\\Delta\\lambda=\\lambda_1-\\lambda_2$ are the differences between the latitudes and longitude of two cities in radians. (*Hint*: To convert degrees to radians multiply them by $\\pi/180$).\n",
    "> ```\n",
    "> coords = np.array([\n",
    ">                   [ 23.71666667,  37.96666667], # Athens\n",
    ">                   [ 13.38333333,  52.51666667], # Berlin\n",
    ">                   [ -0.1275    ,  51.50722222], # London\n",
    ">                   [ -3.71666667,  40.38333333], # Madrid\n",
    ">                   [  2.3508    ,  48.8567    ], # Paris\n",
    ">                   [ 12.5       ,  41.9       ]  # Rome\n",
    "                    ]) \n",
    "> ```\n",
    "> When you are done you can compare the results with a more [precise formula](https://en.wikipedia.org/wiki/Geographical_distance#Spherical_Earth_projected_to_a_plane):\n",
    ">\n",
    "> $$D=6371.009\\sqrt{(\\Delta\\phi)^2 + (\\cos(\\phi_m)\\Delta\\lambda)^2}$$\n",
    ">\n",
    "> where $\\phi_m = (\\phi_1+\\phi_2) / 2$ is the mean latitude."
   ]
  },
  {
   "cell_type": "markdown",
   "metadata": {
    "collapsed": true
   },
   "source": [
    "> ## Exercise: Creating a two-dimensional grid\n",
    "> \n",
    "> What are the dimensionalities of `x`, `y` and `z` in the two cases:\n",
    ">\n",
    "> ```\n",
    "> x, y = np.mgrid[:10, :5]\n",
    "> z = x + y\n",
    "> ```\n",
    "> \n",
    "> and \n",
    "> \n",
    "> ```\n",
    "> x, y = np.ogrid[:10, :5]\n",
    "> z = x + y\n",
    "> ```\n",
    "> \n",
    "> What might be the advantage of using `np.ogrid` over `np.mgrid`?\n",
    "\n",
    "\n"
   ]
  },
  {
   "cell_type": "markdown",
   "metadata": {},
   "source": [
    "## Further reading\n",
    "\n",
    "* NumPy docs, http://docs.scipy.org/doc/numpy/user/basics.broadcasting.html"
   ]
  },
  {
   "cell_type": "code",
   "execution_count": null,
   "metadata": {
    "collapsed": true
   },
   "outputs": [],
   "source": []
  }
 ],
 "metadata": {
  "kernelspec": {
   "display_name": "Python 3",
   "language": "python",
   "name": "python3"
  },
  "language_info": {
   "codemirror_mode": {
    "name": "ipython",
    "version": 3
   },
   "file_extension": ".py",
   "mimetype": "text/x-python",
   "name": "python",
   "nbconvert_exporter": "python",
   "pygments_lexer": "ipython3",
   "version": "3.5.2"
  }
 },
 "nbformat": 4,
 "nbformat_minor": 0
}
